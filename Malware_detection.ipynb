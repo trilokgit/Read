{
  "cells": [
    {
      "cell_type": "markdown",
      "metadata": {
        "id": "view-in-github",
        "colab_type": "text"
      },
      "source": [
        "<a href=\"https://colab.research.google.com/github/trilokgit/Read/blob/main/Malware_detection.ipynb\" target=\"_parent\"><img src=\"https://colab.research.google.com/assets/colab-badge.svg\" alt=\"Open In Colab\"/></a>"
      ]
    },
    {
      "cell_type": "code",
      "source": [
        "import pandas as pd"
      ],
      "metadata": {
        "id": "1nh71HQ1uqRf"
      },
      "execution_count": null,
      "outputs": []
    },
    {
      "cell_type": "code",
      "source": [
        "# DATASET LINK ---> https://drive.google.com/file/d/1y-Cu6b2gXxpFxLMYqAJHOgKSaawSqJha/view?usp=share_link",
        "# df1 = pd.read_csv('/content/06_18_2017-be-20170222-apps-sk.shortcut.videocalls.pcap_ISCX.csv',skipinitialspace = True,low_memory=False)\n",
        "# df2 = pd.read_csv('/content/08_22_2017-ra-jisut-eset-12fb8804389e7496ff5a56e2134ccf5e.pcap_ISCX.csv',skipinitialspace = True,low_memory=False)\n",
        "# df3 = pd.read_csv('/content/Benign_Ransomeware_malware_file_4.5L.csv',skipinitialspace = True,low_memory=False)\n",
        "# df4 = pd.read_csv('/content/DATA_SET_ONLY_RANSOMEWARE_TYPE.csv',skipinitialspace = True,low_memory=False)\n",
        "# df4 = pd.read_csv('/content/Benign_Ransomeware_malware_file_2.5L.csv',skipinitialspace = True,low_memory=False)\n",
        "# df4 = pd.read_csv('/content/data_1L.csv',skipinitialspace = True,low_memory=False)\n",
        "df4 = pd.read_csv('/content/small_45k.csv',skipinitialspace = True,low_memory=False)\n",
        "# df4 = df4.sample(frac=1)\n",
        "# df4 = df4[:10000]"
      ],
      "metadata": {
        "id": "fNeVBlbLuqPm"
      },
      "execution_count": null,
      "outputs": []
    },
    {
      "cell_type": "code",
      "source": [
        "df = pd.concat([df4])\n",
        "df_train = df"
      ],
      "metadata": {
        "id": "khw7xmLixxvP"
      },
      "execution_count": null,
      "outputs": []
    },
    {
      "cell_type": "code",
      "source": [
        "df.shape"
      ],
      "metadata": {
        "colab": {
          "base_uri": "https://localhost:8080/"
        },
        "id": "o124Km68x3gj",
        "outputId": "0846836f-cf1e-4d3a-874f-320deb0d3456"
      },
      "execution_count": null,
      "outputs": [
        {
          "output_type": "execute_result",
          "data": {
            "text/plain": [
              "(45000, 85)"
            ]
          },
          "metadata": {},
          "execution_count": 68
        }
      ]
    },
    {
      "cell_type": "code",
      "source": [
        "df.tail()"
      ],
      "metadata": {
        "colab": {
          "base_uri": "https://localhost:8080/",
          "height": 508
        },
        "id": "wddBJDFwuqM6",
        "outputId": "d7c8ed3d-5a5a-46ff-b3de-1a09eb955fbb"
      },
      "execution_count": null,
      "outputs": [
        {
          "output_type": "execute_result",
          "data": {
            "text/plain": [
              "                                         Flow ID    Source IP  Source Port  \\\n",
              "44995          10.42.0.211-10.42.0.1-35783-53-17  10.42.0.211        35783   \n",
              "44996          10.42.0.211-10.42.0.1-16922-53-17  10.42.0.211        16922   \n",
              "44997      10.42.0.211-123.125.29.220-33772-80-6  10.42.0.211        33772   \n",
              "44998  239.255.255.250-10.42.0.211-1900-33200-17  10.42.0.211        33200   \n",
              "44999      157.240.18.10-10.42.0.211-443-39451-6  10.42.0.211        39451   \n",
              "\n",
              "        Destination IP  Destination Port  Protocol         Timestamp  \\\n",
              "44995        10.42.0.1                53        17  30-08-2017 08:48   \n",
              "44996        10.42.0.1                53        17  30-08-2017 08:57   \n",
              "44997   123.125.29.220                80         6  30-08-2017 09:20   \n",
              "44998  239.255.255.250              1900        17  30-08-2017 09:06   \n",
              "44999    157.240.18.10               443         6  30-08-2017 08:43   \n",
              "\n",
              "       Flow Duration  Total Fwd Packets  Total Backward Packets  ...  \\\n",
              "44995         688332                  1                       1  ...   \n",
              "44996         187910                  1                       1  ...   \n",
              "44997       31059819                  6                       0  ...   \n",
              "44998            869                  4                       0  ...   \n",
              "44999            871                  2                       0  ...   \n",
              "\n",
              "       min_seg_size_forward  Active Mean  Active Std  Active Max  Active Min  \\\n",
              "44995                    32            0         0.0           0           0   \n",
              "44996                    20            0         0.0           0           0   \n",
              "44997                    40      7019008         0.0     7019008     7019008   \n",
              "44998                    32            0         0.0           0           0   \n",
              "44999                    20            0         0.0           0           0   \n",
              "\n",
              "        Idle Mean    Idle Std  Idle Max  Idle Min               Label  \n",
              "44995         0.0        0.00         0         0  RANSOMWARE_CHARGER  \n",
              "44996         0.0        0.00         0         0  RANSOMWARE_CHARGER  \n",
              "44997  12020405.5  5676953.76  16034618   8006193  RANSOMWARE_CHARGER  \n",
              "44998         0.0        0.00         0         0  RANSOMWARE_CHARGER  \n",
              "44999         0.0        0.00         0         0  RANSOMWARE_CHARGER  \n",
              "\n",
              "[5 rows x 85 columns]"
            ],
            "text/html": [
              "\n",
              "  <div id=\"df-3dc52052-9881-425b-8270-94683c0a0a37\">\n",
              "    <div class=\"colab-df-container\">\n",
              "      <div>\n",
              "<style scoped>\n",
              "    .dataframe tbody tr th:only-of-type {\n",
              "        vertical-align: middle;\n",
              "    }\n",
              "\n",
              "    .dataframe tbody tr th {\n",
              "        vertical-align: top;\n",
              "    }\n",
              "\n",
              "    .dataframe thead th {\n",
              "        text-align: right;\n",
              "    }\n",
              "</style>\n",
              "<table border=\"1\" class=\"dataframe\">\n",
              "  <thead>\n",
              "    <tr style=\"text-align: right;\">\n",
              "      <th></th>\n",
              "      <th>Flow ID</th>\n",
              "      <th>Source IP</th>\n",
              "      <th>Source Port</th>\n",
              "      <th>Destination IP</th>\n",
              "      <th>Destination Port</th>\n",
              "      <th>Protocol</th>\n",
              "      <th>Timestamp</th>\n",
              "      <th>Flow Duration</th>\n",
              "      <th>Total Fwd Packets</th>\n",
              "      <th>Total Backward Packets</th>\n",
              "      <th>...</th>\n",
              "      <th>min_seg_size_forward</th>\n",
              "      <th>Active Mean</th>\n",
              "      <th>Active Std</th>\n",
              "      <th>Active Max</th>\n",
              "      <th>Active Min</th>\n",
              "      <th>Idle Mean</th>\n",
              "      <th>Idle Std</th>\n",
              "      <th>Idle Max</th>\n",
              "      <th>Idle Min</th>\n",
              "      <th>Label</th>\n",
              "    </tr>\n",
              "  </thead>\n",
              "  <tbody>\n",
              "    <tr>\n",
              "      <th>44995</th>\n",
              "      <td>10.42.0.211-10.42.0.1-35783-53-17</td>\n",
              "      <td>10.42.0.211</td>\n",
              "      <td>35783</td>\n",
              "      <td>10.42.0.1</td>\n",
              "      <td>53</td>\n",
              "      <td>17</td>\n",
              "      <td>30-08-2017 08:48</td>\n",
              "      <td>688332</td>\n",
              "      <td>1</td>\n",
              "      <td>1</td>\n",
              "      <td>...</td>\n",
              "      <td>32</td>\n",
              "      <td>0</td>\n",
              "      <td>0.0</td>\n",
              "      <td>0</td>\n",
              "      <td>0</td>\n",
              "      <td>0.0</td>\n",
              "      <td>0.00</td>\n",
              "      <td>0</td>\n",
              "      <td>0</td>\n",
              "      <td>RANSOMWARE_CHARGER</td>\n",
              "    </tr>\n",
              "    <tr>\n",
              "      <th>44996</th>\n",
              "      <td>10.42.0.211-10.42.0.1-16922-53-17</td>\n",
              "      <td>10.42.0.211</td>\n",
              "      <td>16922</td>\n",
              "      <td>10.42.0.1</td>\n",
              "      <td>53</td>\n",
              "      <td>17</td>\n",
              "      <td>30-08-2017 08:57</td>\n",
              "      <td>187910</td>\n",
              "      <td>1</td>\n",
              "      <td>1</td>\n",
              "      <td>...</td>\n",
              "      <td>20</td>\n",
              "      <td>0</td>\n",
              "      <td>0.0</td>\n",
              "      <td>0</td>\n",
              "      <td>0</td>\n",
              "      <td>0.0</td>\n",
              "      <td>0.00</td>\n",
              "      <td>0</td>\n",
              "      <td>0</td>\n",
              "      <td>RANSOMWARE_CHARGER</td>\n",
              "    </tr>\n",
              "    <tr>\n",
              "      <th>44997</th>\n",
              "      <td>10.42.0.211-123.125.29.220-33772-80-6</td>\n",
              "      <td>10.42.0.211</td>\n",
              "      <td>33772</td>\n",
              "      <td>123.125.29.220</td>\n",
              "      <td>80</td>\n",
              "      <td>6</td>\n",
              "      <td>30-08-2017 09:20</td>\n",
              "      <td>31059819</td>\n",
              "      <td>6</td>\n",
              "      <td>0</td>\n",
              "      <td>...</td>\n",
              "      <td>40</td>\n",
              "      <td>7019008</td>\n",
              "      <td>0.0</td>\n",
              "      <td>7019008</td>\n",
              "      <td>7019008</td>\n",
              "      <td>12020405.5</td>\n",
              "      <td>5676953.76</td>\n",
              "      <td>16034618</td>\n",
              "      <td>8006193</td>\n",
              "      <td>RANSOMWARE_CHARGER</td>\n",
              "    </tr>\n",
              "    <tr>\n",
              "      <th>44998</th>\n",
              "      <td>239.255.255.250-10.42.0.211-1900-33200-17</td>\n",
              "      <td>10.42.0.211</td>\n",
              "      <td>33200</td>\n",
              "      <td>239.255.255.250</td>\n",
              "      <td>1900</td>\n",
              "      <td>17</td>\n",
              "      <td>30-08-2017 09:06</td>\n",
              "      <td>869</td>\n",
              "      <td>4</td>\n",
              "      <td>0</td>\n",
              "      <td>...</td>\n",
              "      <td>32</td>\n",
              "      <td>0</td>\n",
              "      <td>0.0</td>\n",
              "      <td>0</td>\n",
              "      <td>0</td>\n",
              "      <td>0.0</td>\n",
              "      <td>0.00</td>\n",
              "      <td>0</td>\n",
              "      <td>0</td>\n",
              "      <td>RANSOMWARE_CHARGER</td>\n",
              "    </tr>\n",
              "    <tr>\n",
              "      <th>44999</th>\n",
              "      <td>157.240.18.10-10.42.0.211-443-39451-6</td>\n",
              "      <td>10.42.0.211</td>\n",
              "      <td>39451</td>\n",
              "      <td>157.240.18.10</td>\n",
              "      <td>443</td>\n",
              "      <td>6</td>\n",
              "      <td>30-08-2017 08:43</td>\n",
              "      <td>871</td>\n",
              "      <td>2</td>\n",
              "      <td>0</td>\n",
              "      <td>...</td>\n",
              "      <td>20</td>\n",
              "      <td>0</td>\n",
              "      <td>0.0</td>\n",
              "      <td>0</td>\n",
              "      <td>0</td>\n",
              "      <td>0.0</td>\n",
              "      <td>0.00</td>\n",
              "      <td>0</td>\n",
              "      <td>0</td>\n",
              "      <td>RANSOMWARE_CHARGER</td>\n",
              "    </tr>\n",
              "  </tbody>\n",
              "</table>\n",
              "<p>5 rows × 85 columns</p>\n",
              "</div>\n",
              "      <button class=\"colab-df-convert\" onclick=\"convertToInteractive('df-3dc52052-9881-425b-8270-94683c0a0a37')\"\n",
              "              title=\"Convert this dataframe to an interactive table.\"\n",
              "              style=\"display:none;\">\n",
              "        \n",
              "  <svg xmlns=\"http://www.w3.org/2000/svg\" height=\"24px\"viewBox=\"0 0 24 24\"\n",
              "       width=\"24px\">\n",
              "    <path d=\"M0 0h24v24H0V0z\" fill=\"none\"/>\n",
              "    <path d=\"M18.56 5.44l.94 2.06.94-2.06 2.06-.94-2.06-.94-.94-2.06-.94 2.06-2.06.94zm-11 1L8.5 8.5l.94-2.06 2.06-.94-2.06-.94L8.5 2.5l-.94 2.06-2.06.94zm10 10l.94 2.06.94-2.06 2.06-.94-2.06-.94-.94-2.06-.94 2.06-2.06.94z\"/><path d=\"M17.41 7.96l-1.37-1.37c-.4-.4-.92-.59-1.43-.59-.52 0-1.04.2-1.43.59L10.3 9.45l-7.72 7.72c-.78.78-.78 2.05 0 2.83L4 21.41c.39.39.9.59 1.41.59.51 0 1.02-.2 1.41-.59l7.78-7.78 2.81-2.81c.8-.78.8-2.07 0-2.86zM5.41 20L4 18.59l7.72-7.72 1.47 1.35L5.41 20z\"/>\n",
              "  </svg>\n",
              "      </button>\n",
              "      \n",
              "  <style>\n",
              "    .colab-df-container {\n",
              "      display:flex;\n",
              "      flex-wrap:wrap;\n",
              "      gap: 12px;\n",
              "    }\n",
              "\n",
              "    .colab-df-convert {\n",
              "      background-color: #E8F0FE;\n",
              "      border: none;\n",
              "      border-radius: 50%;\n",
              "      cursor: pointer;\n",
              "      display: none;\n",
              "      fill: #1967D2;\n",
              "      height: 32px;\n",
              "      padding: 0 0 0 0;\n",
              "      width: 32px;\n",
              "    }\n",
              "\n",
              "    .colab-df-convert:hover {\n",
              "      background-color: #E2EBFA;\n",
              "      box-shadow: 0px 1px 2px rgba(60, 64, 67, 0.3), 0px 1px 3px 1px rgba(60, 64, 67, 0.15);\n",
              "      fill: #174EA6;\n",
              "    }\n",
              "\n",
              "    [theme=dark] .colab-df-convert {\n",
              "      background-color: #3B4455;\n",
              "      fill: #D2E3FC;\n",
              "    }\n",
              "\n",
              "    [theme=dark] .colab-df-convert:hover {\n",
              "      background-color: #434B5C;\n",
              "      box-shadow: 0px 1px 3px 1px rgba(0, 0, 0, 0.15);\n",
              "      filter: drop-shadow(0px 1px 2px rgba(0, 0, 0, 0.3));\n",
              "      fill: #FFFFFF;\n",
              "    }\n",
              "  </style>\n",
              "\n",
              "      <script>\n",
              "        const buttonEl =\n",
              "          document.querySelector('#df-3dc52052-9881-425b-8270-94683c0a0a37 button.colab-df-convert');\n",
              "        buttonEl.style.display =\n",
              "          google.colab.kernel.accessAllowed ? 'block' : 'none';\n",
              "\n",
              "        async function convertToInteractive(key) {\n",
              "          const element = document.querySelector('#df-3dc52052-9881-425b-8270-94683c0a0a37');\n",
              "          const dataTable =\n",
              "            await google.colab.kernel.invokeFunction('convertToInteractive',\n",
              "                                                     [key], {});\n",
              "          if (!dataTable) return;\n",
              "\n",
              "          const docLinkHtml = 'Like what you see? Visit the ' +\n",
              "            '<a target=\"_blank\" href=https://colab.research.google.com/notebooks/data_table.ipynb>data table notebook</a>'\n",
              "            + ' to learn more about interactive tables.';\n",
              "          element.innerHTML = '';\n",
              "          dataTable['output_type'] = 'display_data';\n",
              "          await google.colab.output.renderOutput(dataTable, element);\n",
              "          const docLink = document.createElement('div');\n",
              "          docLink.innerHTML = docLinkHtml;\n",
              "          element.appendChild(docLink);\n",
              "        }\n",
              "      </script>\n",
              "    </div>\n",
              "  </div>\n",
              "  "
            ]
          },
          "metadata": {},
          "execution_count": 69
        }
      ]
    },
    {
      "cell_type": "code",
      "source": [
        "df.info()"
      ],
      "metadata": {
        "colab": {
          "base_uri": "https://localhost:8080/"
        },
        "id": "So4QCdaXuqKn",
        "outputId": "578e8f11-5d7c-448b-d7db-2d774a1b8418"
      },
      "execution_count": null,
      "outputs": [
        {
          "output_type": "stream",
          "name": "stdout",
          "text": [
            "<class 'pandas.core.frame.DataFrame'>\n",
            "RangeIndex: 45000 entries, 0 to 44999\n",
            "Data columns (total 85 columns):\n",
            " #   Column                       Non-Null Count  Dtype  \n",
            "---  ------                       --------------  -----  \n",
            " 0   Flow ID                      45000 non-null  object \n",
            " 1   Source IP                    45000 non-null  object \n",
            " 2   Source Port                  45000 non-null  int64  \n",
            " 3   Destination IP               45000 non-null  object \n",
            " 4   Destination Port             45000 non-null  int64  \n",
            " 5   Protocol                     45000 non-null  int64  \n",
            " 6   Timestamp                    45000 non-null  object \n",
            " 7   Flow Duration                45000 non-null  int64  \n",
            " 8   Total Fwd Packets            45000 non-null  int64  \n",
            " 9   Total Backward Packets       45000 non-null  int64  \n",
            " 10  Total Length of Fwd Packets  45000 non-null  int64  \n",
            " 11  Total Length of Bwd Packets  45000 non-null  int64  \n",
            " 12  Fwd Packet Length Max        45000 non-null  int64  \n",
            " 13  Fwd Packet Length Min        45000 non-null  int64  \n",
            " 14  Fwd Packet Length Mean       45000 non-null  float64\n",
            " 15  Fwd Packet Length Std        45000 non-null  float64\n",
            " 16  Bwd Packet Length Max        45000 non-null  int64  \n",
            " 17  Bwd Packet Length Min        45000 non-null  int64  \n",
            " 18  Bwd Packet Length Mean       45000 non-null  float64\n",
            " 19  Bwd Packet Length Std        45000 non-null  float64\n",
            " 20  Flow Bytes/s                 45000 non-null  float64\n",
            " 21  Flow Packets/s               45000 non-null  float64\n",
            " 22  Flow IAT Mean                45000 non-null  float64\n",
            " 23  Flow IAT Std                 45000 non-null  float64\n",
            " 24  Flow IAT Max                 45000 non-null  int64  \n",
            " 25  Flow IAT Min                 45000 non-null  int64  \n",
            " 26  Fwd IAT Total                45000 non-null  int64  \n",
            " 27  Fwd IAT Mean                 45000 non-null  float64\n",
            " 28  Fwd IAT Std                  45000 non-null  float64\n",
            " 29  Fwd IAT Max                  45000 non-null  int64  \n",
            " 30  Fwd IAT Min                  45000 non-null  int64  \n",
            " 31  Bwd IAT Total                45000 non-null  int64  \n",
            " 32  Bwd IAT Mean                 45000 non-null  float64\n",
            " 33  Bwd IAT Std                  45000 non-null  float64\n",
            " 34  Bwd IAT Max                  45000 non-null  int64  \n",
            " 35  Bwd IAT Min                  45000 non-null  int64  \n",
            " 36  Fwd PSH Flags                45000 non-null  int64  \n",
            " 37  Bwd PSH Flags                45000 non-null  int64  \n",
            " 38  Fwd URG Flags                45000 non-null  int64  \n",
            " 39  Bwd URG Flags                45000 non-null  int64  \n",
            " 40  Fwd Header Length            45000 non-null  float64\n",
            " 41  Bwd Header Length            45000 non-null  float64\n",
            " 42  Fwd Packets/s                45000 non-null  float64\n",
            " 43  Bwd Packets/s                45000 non-null  float64\n",
            " 44  Min Packet Length            45000 non-null  int64  \n",
            " 45  Max Packet Length            45000 non-null  int64  \n",
            " 46  Packet Length Mean           45000 non-null  float64\n",
            " 47  Packet Length Std            45000 non-null  float64\n",
            " 48  Packet Length Variance       45000 non-null  float64\n",
            " 49  FIN Flag Count               45000 non-null  int64  \n",
            " 50  SYN Flag Count               45000 non-null  int64  \n",
            " 51  RST Flag Count               45000 non-null  int64  \n",
            " 52  PSH Flag Count               45000 non-null  int64  \n",
            " 53  ACK Flag Count               45000 non-null  int64  \n",
            " 54  URG Flag Count               45000 non-null  int64  \n",
            " 55  CWE Flag Count               45000 non-null  int64  \n",
            " 56  ECE Flag Count               45000 non-null  int64  \n",
            " 57  Down/Up Ratio                45000 non-null  int64  \n",
            " 58  Average Packet Size          45000 non-null  float64\n",
            " 59  Avg Fwd Segment Size         45000 non-null  float64\n",
            " 60  Avg Bwd Segment Size         45000 non-null  float64\n",
            " 61  Fwd Header Length_1          45000 non-null  float64\n",
            " 62  Fwd Avg Bytes/Bulk           45000 non-null  int64  \n",
            " 63  Fwd Avg Packets/Bulk         45000 non-null  int64  \n",
            " 64  Fwd Avg Bulk Rate            45000 non-null  int64  \n",
            " 65  Bwd Avg Bytes/Bulk           45000 non-null  int64  \n",
            " 66  Bwd Avg Packets/Bulk         45000 non-null  int64  \n",
            " 67  Bwd Avg Bulk Rate            45000 non-null  int64  \n",
            " 68  Subflow Fwd Packets          45000 non-null  int64  \n",
            " 69  Subflow Fwd Bytes            45000 non-null  int64  \n",
            " 70  Subflow Bwd Packets          45000 non-null  int64  \n",
            " 71  Subflow Bwd Bytes            45000 non-null  int64  \n",
            " 72  Init_Win_bytes_forward       45000 non-null  int64  \n",
            " 73  Init_Win_bytes_backward      45000 non-null  int64  \n",
            " 74  act_data_pkt_fwd             45000 non-null  int64  \n",
            " 75  min_seg_size_forward         45000 non-null  int64  \n",
            " 76  Active Mean                  45000 non-null  int64  \n",
            " 77  Active Std                   45000 non-null  float64\n",
            " 78  Active Max                   45000 non-null  int64  \n",
            " 79  Active Min                   45000 non-null  int64  \n",
            " 80  Idle Mean                    45000 non-null  float64\n",
            " 81  Idle Std                     45000 non-null  float64\n",
            " 82  Idle Max                     45000 non-null  int64  \n",
            " 83  Idle Min                     45000 non-null  int64  \n",
            " 84  Label                        45000 non-null  object \n",
            "dtypes: float64(26), int64(54), object(5)\n",
            "memory usage: 29.2+ MB\n"
          ]
        }
      ]
    },
    {
      "cell_type": "code",
      "source": [
        "df = df.drop(['Timestamp','Flow ID'],axis=1)"
      ],
      "metadata": {
        "id": "lJIf4pmCuqG8"
      },
      "execution_count": null,
      "outputs": []
    },
    {
      "cell_type": "code",
      "source": [
        "df.info()"
      ],
      "metadata": {
        "colab": {
          "base_uri": "https://localhost:8080/"
        },
        "id": "8A--sji9uqE_",
        "outputId": "02bb4074-6417-4785-e5a2-15f99df905ad"
      },
      "execution_count": null,
      "outputs": [
        {
          "output_type": "stream",
          "name": "stdout",
          "text": [
            "<class 'pandas.core.frame.DataFrame'>\n",
            "RangeIndex: 45000 entries, 0 to 44999\n",
            "Data columns (total 83 columns):\n",
            " #   Column                       Non-Null Count  Dtype  \n",
            "---  ------                       --------------  -----  \n",
            " 0   Source IP                    45000 non-null  object \n",
            " 1   Source Port                  45000 non-null  int64  \n",
            " 2   Destination IP               45000 non-null  object \n",
            " 3   Destination Port             45000 non-null  int64  \n",
            " 4   Protocol                     45000 non-null  int64  \n",
            " 5   Flow Duration                45000 non-null  int64  \n",
            " 6   Total Fwd Packets            45000 non-null  int64  \n",
            " 7   Total Backward Packets       45000 non-null  int64  \n",
            " 8   Total Length of Fwd Packets  45000 non-null  int64  \n",
            " 9   Total Length of Bwd Packets  45000 non-null  int64  \n",
            " 10  Fwd Packet Length Max        45000 non-null  int64  \n",
            " 11  Fwd Packet Length Min        45000 non-null  int64  \n",
            " 12  Fwd Packet Length Mean       45000 non-null  float64\n",
            " 13  Fwd Packet Length Std        45000 non-null  float64\n",
            " 14  Bwd Packet Length Max        45000 non-null  int64  \n",
            " 15  Bwd Packet Length Min        45000 non-null  int64  \n",
            " 16  Bwd Packet Length Mean       45000 non-null  float64\n",
            " 17  Bwd Packet Length Std        45000 non-null  float64\n",
            " 18  Flow Bytes/s                 45000 non-null  float64\n",
            " 19  Flow Packets/s               45000 non-null  float64\n",
            " 20  Flow IAT Mean                45000 non-null  float64\n",
            " 21  Flow IAT Std                 45000 non-null  float64\n",
            " 22  Flow IAT Max                 45000 non-null  int64  \n",
            " 23  Flow IAT Min                 45000 non-null  int64  \n",
            " 24  Fwd IAT Total                45000 non-null  int64  \n",
            " 25  Fwd IAT Mean                 45000 non-null  float64\n",
            " 26  Fwd IAT Std                  45000 non-null  float64\n",
            " 27  Fwd IAT Max                  45000 non-null  int64  \n",
            " 28  Fwd IAT Min                  45000 non-null  int64  \n",
            " 29  Bwd IAT Total                45000 non-null  int64  \n",
            " 30  Bwd IAT Mean                 45000 non-null  float64\n",
            " 31  Bwd IAT Std                  45000 non-null  float64\n",
            " 32  Bwd IAT Max                  45000 non-null  int64  \n",
            " 33  Bwd IAT Min                  45000 non-null  int64  \n",
            " 34  Fwd PSH Flags                45000 non-null  int64  \n",
            " 35  Bwd PSH Flags                45000 non-null  int64  \n",
            " 36  Fwd URG Flags                45000 non-null  int64  \n",
            " 37  Bwd URG Flags                45000 non-null  int64  \n",
            " 38  Fwd Header Length            45000 non-null  float64\n",
            " 39  Bwd Header Length            45000 non-null  float64\n",
            " 40  Fwd Packets/s                45000 non-null  float64\n",
            " 41  Bwd Packets/s                45000 non-null  float64\n",
            " 42  Min Packet Length            45000 non-null  int64  \n",
            " 43  Max Packet Length            45000 non-null  int64  \n",
            " 44  Packet Length Mean           45000 non-null  float64\n",
            " 45  Packet Length Std            45000 non-null  float64\n",
            " 46  Packet Length Variance       45000 non-null  float64\n",
            " 47  FIN Flag Count               45000 non-null  int64  \n",
            " 48  SYN Flag Count               45000 non-null  int64  \n",
            " 49  RST Flag Count               45000 non-null  int64  \n",
            " 50  PSH Flag Count               45000 non-null  int64  \n",
            " 51  ACK Flag Count               45000 non-null  int64  \n",
            " 52  URG Flag Count               45000 non-null  int64  \n",
            " 53  CWE Flag Count               45000 non-null  int64  \n",
            " 54  ECE Flag Count               45000 non-null  int64  \n",
            " 55  Down/Up Ratio                45000 non-null  int64  \n",
            " 56  Average Packet Size          45000 non-null  float64\n",
            " 57  Avg Fwd Segment Size         45000 non-null  float64\n",
            " 58  Avg Bwd Segment Size         45000 non-null  float64\n",
            " 59  Fwd Header Length_1          45000 non-null  float64\n",
            " 60  Fwd Avg Bytes/Bulk           45000 non-null  int64  \n",
            " 61  Fwd Avg Packets/Bulk         45000 non-null  int64  \n",
            " 62  Fwd Avg Bulk Rate            45000 non-null  int64  \n",
            " 63  Bwd Avg Bytes/Bulk           45000 non-null  int64  \n",
            " 64  Bwd Avg Packets/Bulk         45000 non-null  int64  \n",
            " 65  Bwd Avg Bulk Rate            45000 non-null  int64  \n",
            " 66  Subflow Fwd Packets          45000 non-null  int64  \n",
            " 67  Subflow Fwd Bytes            45000 non-null  int64  \n",
            " 68  Subflow Bwd Packets          45000 non-null  int64  \n",
            " 69  Subflow Bwd Bytes            45000 non-null  int64  \n",
            " 70  Init_Win_bytes_forward       45000 non-null  int64  \n",
            " 71  Init_Win_bytes_backward      45000 non-null  int64  \n",
            " 72  act_data_pkt_fwd             45000 non-null  int64  \n",
            " 73  min_seg_size_forward         45000 non-null  int64  \n",
            " 74  Active Mean                  45000 non-null  int64  \n",
            " 75  Active Std                   45000 non-null  float64\n",
            " 76  Active Max                   45000 non-null  int64  \n",
            " 77  Active Min                   45000 non-null  int64  \n",
            " 78  Idle Mean                    45000 non-null  float64\n",
            " 79  Idle Std                     45000 non-null  float64\n",
            " 80  Idle Max                     45000 non-null  int64  \n",
            " 81  Idle Min                     45000 non-null  int64  \n",
            " 82  Label                        45000 non-null  object \n",
            "dtypes: float64(26), int64(54), object(3)\n",
            "memory usage: 28.5+ MB\n"
          ]
        }
      ]
    },
    {
      "cell_type": "code",
      "source": [
        "df['Source IP'].value_counts()"
      ],
      "metadata": {
        "colab": {
          "base_uri": "https://localhost:8080/"
        },
        "id": "lMsc_7CRuqCC",
        "outputId": "ff972eab-b469-44dc-eea2-bb573246652c"
      },
      "execution_count": null,
      "outputs": [
        {
          "output_type": "execute_result",
          "data": {
            "text/plain": [
              "10.42.0.211       19579\n",
              "10.42.0.42        15267\n",
              "10.42.0.151        4461\n",
              "10.42.0.1           396\n",
              "8.6.0.1             228\n",
              "                  ...  \n",
              "52.85.95.250          1\n",
              "36.248.26.164         1\n",
              "203.205.158.25        1\n",
              "74.125.192.156        1\n",
              "202.77.129.146        1\n",
              "Name: Source IP, Length: 788, dtype: int64"
            ]
          },
          "metadata": {},
          "execution_count": 73
        }
      ]
    },
    {
      "cell_type": "code",
      "source": [
        "df['Destination IP'].value_counts()"
      ],
      "metadata": {
        "colab": {
          "base_uri": "https://localhost:8080/"
        },
        "id": "ez1x2ZDIup_z",
        "outputId": "4dfa31dc-669f-45cf-b32e-3b98f87ce65b"
      },
      "execution_count": null,
      "outputs": [
        {
          "output_type": "execute_result",
          "data": {
            "text/plain": [
              "10.42.0.1          8636\n",
              "10.42.0.211        2510\n",
              "10.42.0.42         1975\n",
              "180.149.136.194     686\n",
              "119.146.74.48       678\n",
              "                   ... \n",
              "217.132.36.186        1\n",
              "188.124.98.28         1\n",
              "42.144.155.176        1\n",
              "74.119.118.71         1\n",
              "41.83.40.229          1\n",
              "Name: Destination IP, Length: 1471, dtype: int64"
            ]
          },
          "metadata": {},
          "execution_count": 74
        }
      ]
    },
    {
      "cell_type": "code",
      "source": [
        "df['Label'].value_counts()"
      ],
      "metadata": {
        "colab": {
          "base_uri": "https://localhost:8080/"
        },
        "id": "9Zaj2jsoFSUh",
        "outputId": "6c2b25c4-1042-49d7-92fe-ae49d40edbad"
      },
      "execution_count": null,
      "outputs": [
        {
          "output_type": "execute_result",
          "data": {
            "text/plain": [
              "BENIGN                22546\n",
              "RANSOMWARE_CHARGER    22454\n",
              "Name: Label, dtype: int64"
            ]
          },
          "metadata": {},
          "execution_count": 75
        }
      ]
    },
    {
      "cell_type": "code",
      "source": [
        "object_feature = df.select_dtypes(include='object').columns.tolist()\n",
        "print(object_feature)"
      ],
      "metadata": {
        "colab": {
          "base_uri": "https://localhost:8080/"
        },
        "id": "iAy0BFGxwGEU",
        "outputId": "6486ea64-b3a9-4447-d6cb-3dfe8aa01c84"
      },
      "execution_count": null,
      "outputs": [
        {
          "output_type": "stream",
          "name": "stdout",
          "text": [
            "['Source IP', 'Destination IP', 'Label']\n"
          ]
        }
      ]
    },
    {
      "cell_type": "code",
      "source": [
        "df[object_feature].tail(2)"
      ],
      "metadata": {
        "colab": {
          "base_uri": "https://localhost:8080/",
          "height": 112
        },
        "id": "JuZmRf2jznc7",
        "outputId": "4c7ec3ea-dd80-4547-8993-510e0d040612"
      },
      "execution_count": null,
      "outputs": [
        {
          "output_type": "execute_result",
          "data": {
            "text/plain": [
              "         Source IP   Destination IP               Label\n",
              "44998  10.42.0.211  239.255.255.250  RANSOMWARE_CHARGER\n",
              "44999  10.42.0.211    157.240.18.10  RANSOMWARE_CHARGER"
            ],
            "text/html": [
              "\n",
              "  <div id=\"df-10d422e4-06ba-4918-9891-ca7fda9be88e\">\n",
              "    <div class=\"colab-df-container\">\n",
              "      <div>\n",
              "<style scoped>\n",
              "    .dataframe tbody tr th:only-of-type {\n",
              "        vertical-align: middle;\n",
              "    }\n",
              "\n",
              "    .dataframe tbody tr th {\n",
              "        vertical-align: top;\n",
              "    }\n",
              "\n",
              "    .dataframe thead th {\n",
              "        text-align: right;\n",
              "    }\n",
              "</style>\n",
              "<table border=\"1\" class=\"dataframe\">\n",
              "  <thead>\n",
              "    <tr style=\"text-align: right;\">\n",
              "      <th></th>\n",
              "      <th>Source IP</th>\n",
              "      <th>Destination IP</th>\n",
              "      <th>Label</th>\n",
              "    </tr>\n",
              "  </thead>\n",
              "  <tbody>\n",
              "    <tr>\n",
              "      <th>44998</th>\n",
              "      <td>10.42.0.211</td>\n",
              "      <td>239.255.255.250</td>\n",
              "      <td>RANSOMWARE_CHARGER</td>\n",
              "    </tr>\n",
              "    <tr>\n",
              "      <th>44999</th>\n",
              "      <td>10.42.0.211</td>\n",
              "      <td>157.240.18.10</td>\n",
              "      <td>RANSOMWARE_CHARGER</td>\n",
              "    </tr>\n",
              "  </tbody>\n",
              "</table>\n",
              "</div>\n",
              "      <button class=\"colab-df-convert\" onclick=\"convertToInteractive('df-10d422e4-06ba-4918-9891-ca7fda9be88e')\"\n",
              "              title=\"Convert this dataframe to an interactive table.\"\n",
              "              style=\"display:none;\">\n",
              "        \n",
              "  <svg xmlns=\"http://www.w3.org/2000/svg\" height=\"24px\"viewBox=\"0 0 24 24\"\n",
              "       width=\"24px\">\n",
              "    <path d=\"M0 0h24v24H0V0z\" fill=\"none\"/>\n",
              "    <path d=\"M18.56 5.44l.94 2.06.94-2.06 2.06-.94-2.06-.94-.94-2.06-.94 2.06-2.06.94zm-11 1L8.5 8.5l.94-2.06 2.06-.94-2.06-.94L8.5 2.5l-.94 2.06-2.06.94zm10 10l.94 2.06.94-2.06 2.06-.94-2.06-.94-.94-2.06-.94 2.06-2.06.94z\"/><path d=\"M17.41 7.96l-1.37-1.37c-.4-.4-.92-.59-1.43-.59-.52 0-1.04.2-1.43.59L10.3 9.45l-7.72 7.72c-.78.78-.78 2.05 0 2.83L4 21.41c.39.39.9.59 1.41.59.51 0 1.02-.2 1.41-.59l7.78-7.78 2.81-2.81c.8-.78.8-2.07 0-2.86zM5.41 20L4 18.59l7.72-7.72 1.47 1.35L5.41 20z\"/>\n",
              "  </svg>\n",
              "      </button>\n",
              "      \n",
              "  <style>\n",
              "    .colab-df-container {\n",
              "      display:flex;\n",
              "      flex-wrap:wrap;\n",
              "      gap: 12px;\n",
              "    }\n",
              "\n",
              "    .colab-df-convert {\n",
              "      background-color: #E8F0FE;\n",
              "      border: none;\n",
              "      border-radius: 50%;\n",
              "      cursor: pointer;\n",
              "      display: none;\n",
              "      fill: #1967D2;\n",
              "      height: 32px;\n",
              "      padding: 0 0 0 0;\n",
              "      width: 32px;\n",
              "    }\n",
              "\n",
              "    .colab-df-convert:hover {\n",
              "      background-color: #E2EBFA;\n",
              "      box-shadow: 0px 1px 2px rgba(60, 64, 67, 0.3), 0px 1px 3px 1px rgba(60, 64, 67, 0.15);\n",
              "      fill: #174EA6;\n",
              "    }\n",
              "\n",
              "    [theme=dark] .colab-df-convert {\n",
              "      background-color: #3B4455;\n",
              "      fill: #D2E3FC;\n",
              "    }\n",
              "\n",
              "    [theme=dark] .colab-df-convert:hover {\n",
              "      background-color: #434B5C;\n",
              "      box-shadow: 0px 1px 3px 1px rgba(0, 0, 0, 0.15);\n",
              "      filter: drop-shadow(0px 1px 2px rgba(0, 0, 0, 0.3));\n",
              "      fill: #FFFFFF;\n",
              "    }\n",
              "  </style>\n",
              "\n",
              "      <script>\n",
              "        const buttonEl =\n",
              "          document.querySelector('#df-10d422e4-06ba-4918-9891-ca7fda9be88e button.colab-df-convert');\n",
              "        buttonEl.style.display =\n",
              "          google.colab.kernel.accessAllowed ? 'block' : 'none';\n",
              "\n",
              "        async function convertToInteractive(key) {\n",
              "          const element = document.querySelector('#df-10d422e4-06ba-4918-9891-ca7fda9be88e');\n",
              "          const dataTable =\n",
              "            await google.colab.kernel.invokeFunction('convertToInteractive',\n",
              "                                                     [key], {});\n",
              "          if (!dataTable) return;\n",
              "\n",
              "          const docLinkHtml = 'Like what you see? Visit the ' +\n",
              "            '<a target=\"_blank\" href=https://colab.research.google.com/notebooks/data_table.ipynb>data table notebook</a>'\n",
              "            + ' to learn more about interactive tables.';\n",
              "          element.innerHTML = '';\n",
              "          dataTable['output_type'] = 'display_data';\n",
              "          await google.colab.output.renderOutput(dataTable, element);\n",
              "          const docLink = document.createElement('div');\n",
              "          docLink.innerHTML = docLinkHtml;\n",
              "          element.appendChild(docLink);\n",
              "        }\n",
              "      </script>\n",
              "    </div>\n",
              "  </div>\n",
              "  "
            ]
          },
          "metadata": {},
          "execution_count": 77
        }
      ]
    },
    {
      "cell_type": "code",
      "source": [
        "df = pd.get_dummies(df,columns=object_feature,prefix=object_feature,drop_first=True)"
      ],
      "metadata": {
        "id": "ywW475a1wGAj"
      },
      "execution_count": null,
      "outputs": []
    },
    {
      "cell_type": "code",
      "source": [
        "df.shape"
      ],
      "metadata": {
        "colab": {
          "base_uri": "https://localhost:8080/"
        },
        "id": "KvSi0LcvwF-0",
        "outputId": "fbfc5262-7148-4473-acb3-be25f2a8d49a"
      },
      "execution_count": null,
      "outputs": [
        {
          "output_type": "execute_result",
          "data": {
            "text/plain": [
              "(45000, 2338)"
            ]
          },
          "metadata": {},
          "execution_count": 79
        }
      ]
    },
    {
      "cell_type": "code",
      "source": [
        "df.head()"
      ],
      "metadata": {
        "colab": {
          "base_uri": "https://localhost:8080/",
          "height": 352
        },
        "id": "-FxM1jRxEptv",
        "outputId": "4c5de880-70d2-4526-e972-c578d22625c6"
      },
      "execution_count": null,
      "outputs": [
        {
          "output_type": "execute_result",
          "data": {
            "text/plain": [
              "   Source Port  Destination Port  Protocol  Flow Duration  Total Fwd Packets  \\\n",
              "0        53858               443         6          15410                  2   \n",
              "1          443             53858         6             65                  2   \n",
              "2          443             38804         6             39                  2   \n",
              "3        38804               443         6            476                  3   \n",
              "4        43508               443         6          36427                  1   \n",
              "\n",
              "   Total Backward Packets  Total Length of Fwd Packets  \\\n",
              "0                       0                           85   \n",
              "1                       0                            0   \n",
              "2                       0                           42   \n",
              "3                       0                           42   \n",
              "4                       1                            0   \n",
              "\n",
              "   Total Length of Bwd Packets  Fwd Packet Length Max  Fwd Packet Length Min  \\\n",
              "0                            0                     85                      0   \n",
              "1                            0                      0                      0   \n",
              "2                            0                     42                      0   \n",
              "3                            0                     42                      0   \n",
              "4                            0                      0                      0   \n",
              "\n",
              "   ...  Destination IP_98.138.81.73  Destination IP_98.139.180.180  \\\n",
              "0  ...                            0                              0   \n",
              "1  ...                            0                              0   \n",
              "2  ...                            0                              0   \n",
              "3  ...                            0                              0   \n",
              "4  ...                            0                              0   \n",
              "\n",
              "   Destination IP_98.139.180.181  Destination IP_98.139.183.24  \\\n",
              "0                              0                             0   \n",
              "1                              0                             0   \n",
              "2                              0                             0   \n",
              "3                              0                             0   \n",
              "4                              0                             0   \n",
              "\n",
              "   Destination IP_98.139.199.204  Destination IP_98.139.199.205  \\\n",
              "0                              0                              0   \n",
              "1                              0                              0   \n",
              "2                              0                              0   \n",
              "3                              0                              0   \n",
              "4                              0                              0   \n",
              "\n",
              "   Destination IP_98.139.225.43  Destination IP_98.221.60.177  \\\n",
              "0                             0                             0   \n",
              "1                             0                             0   \n",
              "2                             0                             0   \n",
              "3                             0                             0   \n",
              "4                             0                             0   \n",
              "\n",
              "   Destination IP_99.224.25.39  Label_RANSOMWARE_CHARGER  \n",
              "0                            0                         0  \n",
              "1                            0                         0  \n",
              "2                            0                         0  \n",
              "3                            0                         0  \n",
              "4                            0                         0  \n",
              "\n",
              "[5 rows x 2338 columns]"
            ],
            "text/html": [
              "\n",
              "  <div id=\"df-106abc2f-c412-4137-bafb-088a2cb8faa5\">\n",
              "    <div class=\"colab-df-container\">\n",
              "      <div>\n",
              "<style scoped>\n",
              "    .dataframe tbody tr th:only-of-type {\n",
              "        vertical-align: middle;\n",
              "    }\n",
              "\n",
              "    .dataframe tbody tr th {\n",
              "        vertical-align: top;\n",
              "    }\n",
              "\n",
              "    .dataframe thead th {\n",
              "        text-align: right;\n",
              "    }\n",
              "</style>\n",
              "<table border=\"1\" class=\"dataframe\">\n",
              "  <thead>\n",
              "    <tr style=\"text-align: right;\">\n",
              "      <th></th>\n",
              "      <th>Source Port</th>\n",
              "      <th>Destination Port</th>\n",
              "      <th>Protocol</th>\n",
              "      <th>Flow Duration</th>\n",
              "      <th>Total Fwd Packets</th>\n",
              "      <th>Total Backward Packets</th>\n",
              "      <th>Total Length of Fwd Packets</th>\n",
              "      <th>Total Length of Bwd Packets</th>\n",
              "      <th>Fwd Packet Length Max</th>\n",
              "      <th>Fwd Packet Length Min</th>\n",
              "      <th>...</th>\n",
              "      <th>Destination IP_98.138.81.73</th>\n",
              "      <th>Destination IP_98.139.180.180</th>\n",
              "      <th>Destination IP_98.139.180.181</th>\n",
              "      <th>Destination IP_98.139.183.24</th>\n",
              "      <th>Destination IP_98.139.199.204</th>\n",
              "      <th>Destination IP_98.139.199.205</th>\n",
              "      <th>Destination IP_98.139.225.43</th>\n",
              "      <th>Destination IP_98.221.60.177</th>\n",
              "      <th>Destination IP_99.224.25.39</th>\n",
              "      <th>Label_RANSOMWARE_CHARGER</th>\n",
              "    </tr>\n",
              "  </thead>\n",
              "  <tbody>\n",
              "    <tr>\n",
              "      <th>0</th>\n",
              "      <td>53858</td>\n",
              "      <td>443</td>\n",
              "      <td>6</td>\n",
              "      <td>15410</td>\n",
              "      <td>2</td>\n",
              "      <td>0</td>\n",
              "      <td>85</td>\n",
              "      <td>0</td>\n",
              "      <td>85</td>\n",
              "      <td>0</td>\n",
              "      <td>...</td>\n",
              "      <td>0</td>\n",
              "      <td>0</td>\n",
              "      <td>0</td>\n",
              "      <td>0</td>\n",
              "      <td>0</td>\n",
              "      <td>0</td>\n",
              "      <td>0</td>\n",
              "      <td>0</td>\n",
              "      <td>0</td>\n",
              "      <td>0</td>\n",
              "    </tr>\n",
              "    <tr>\n",
              "      <th>1</th>\n",
              "      <td>443</td>\n",
              "      <td>53858</td>\n",
              "      <td>6</td>\n",
              "      <td>65</td>\n",
              "      <td>2</td>\n",
              "      <td>0</td>\n",
              "      <td>0</td>\n",
              "      <td>0</td>\n",
              "      <td>0</td>\n",
              "      <td>0</td>\n",
              "      <td>...</td>\n",
              "      <td>0</td>\n",
              "      <td>0</td>\n",
              "      <td>0</td>\n",
              "      <td>0</td>\n",
              "      <td>0</td>\n",
              "      <td>0</td>\n",
              "      <td>0</td>\n",
              "      <td>0</td>\n",
              "      <td>0</td>\n",
              "      <td>0</td>\n",
              "    </tr>\n",
              "    <tr>\n",
              "      <th>2</th>\n",
              "      <td>443</td>\n",
              "      <td>38804</td>\n",
              "      <td>6</td>\n",
              "      <td>39</td>\n",
              "      <td>2</td>\n",
              "      <td>0</td>\n",
              "      <td>42</td>\n",
              "      <td>0</td>\n",
              "      <td>42</td>\n",
              "      <td>0</td>\n",
              "      <td>...</td>\n",
              "      <td>0</td>\n",
              "      <td>0</td>\n",
              "      <td>0</td>\n",
              "      <td>0</td>\n",
              "      <td>0</td>\n",
              "      <td>0</td>\n",
              "      <td>0</td>\n",
              "      <td>0</td>\n",
              "      <td>0</td>\n",
              "      <td>0</td>\n",
              "    </tr>\n",
              "    <tr>\n",
              "      <th>3</th>\n",
              "      <td>38804</td>\n",
              "      <td>443</td>\n",
              "      <td>6</td>\n",
              "      <td>476</td>\n",
              "      <td>3</td>\n",
              "      <td>0</td>\n",
              "      <td>42</td>\n",
              "      <td>0</td>\n",
              "      <td>42</td>\n",
              "      <td>0</td>\n",
              "      <td>...</td>\n",
              "      <td>0</td>\n",
              "      <td>0</td>\n",
              "      <td>0</td>\n",
              "      <td>0</td>\n",
              "      <td>0</td>\n",
              "      <td>0</td>\n",
              "      <td>0</td>\n",
              "      <td>0</td>\n",
              "      <td>0</td>\n",
              "      <td>0</td>\n",
              "    </tr>\n",
              "    <tr>\n",
              "      <th>4</th>\n",
              "      <td>43508</td>\n",
              "      <td>443</td>\n",
              "      <td>6</td>\n",
              "      <td>36427</td>\n",
              "      <td>1</td>\n",
              "      <td>1</td>\n",
              "      <td>0</td>\n",
              "      <td>0</td>\n",
              "      <td>0</td>\n",
              "      <td>0</td>\n",
              "      <td>...</td>\n",
              "      <td>0</td>\n",
              "      <td>0</td>\n",
              "      <td>0</td>\n",
              "      <td>0</td>\n",
              "      <td>0</td>\n",
              "      <td>0</td>\n",
              "      <td>0</td>\n",
              "      <td>0</td>\n",
              "      <td>0</td>\n",
              "      <td>0</td>\n",
              "    </tr>\n",
              "  </tbody>\n",
              "</table>\n",
              "<p>5 rows × 2338 columns</p>\n",
              "</div>\n",
              "      <button class=\"colab-df-convert\" onclick=\"convertToInteractive('df-106abc2f-c412-4137-bafb-088a2cb8faa5')\"\n",
              "              title=\"Convert this dataframe to an interactive table.\"\n",
              "              style=\"display:none;\">\n",
              "        \n",
              "  <svg xmlns=\"http://www.w3.org/2000/svg\" height=\"24px\"viewBox=\"0 0 24 24\"\n",
              "       width=\"24px\">\n",
              "    <path d=\"M0 0h24v24H0V0z\" fill=\"none\"/>\n",
              "    <path d=\"M18.56 5.44l.94 2.06.94-2.06 2.06-.94-2.06-.94-.94-2.06-.94 2.06-2.06.94zm-11 1L8.5 8.5l.94-2.06 2.06-.94-2.06-.94L8.5 2.5l-.94 2.06-2.06.94zm10 10l.94 2.06.94-2.06 2.06-.94-2.06-.94-.94-2.06-.94 2.06-2.06.94z\"/><path d=\"M17.41 7.96l-1.37-1.37c-.4-.4-.92-.59-1.43-.59-.52 0-1.04.2-1.43.59L10.3 9.45l-7.72 7.72c-.78.78-.78 2.05 0 2.83L4 21.41c.39.39.9.59 1.41.59.51 0 1.02-.2 1.41-.59l7.78-7.78 2.81-2.81c.8-.78.8-2.07 0-2.86zM5.41 20L4 18.59l7.72-7.72 1.47 1.35L5.41 20z\"/>\n",
              "  </svg>\n",
              "      </button>\n",
              "      \n",
              "  <style>\n",
              "    .colab-df-container {\n",
              "      display:flex;\n",
              "      flex-wrap:wrap;\n",
              "      gap: 12px;\n",
              "    }\n",
              "\n",
              "    .colab-df-convert {\n",
              "      background-color: #E8F0FE;\n",
              "      border: none;\n",
              "      border-radius: 50%;\n",
              "      cursor: pointer;\n",
              "      display: none;\n",
              "      fill: #1967D2;\n",
              "      height: 32px;\n",
              "      padding: 0 0 0 0;\n",
              "      width: 32px;\n",
              "    }\n",
              "\n",
              "    .colab-df-convert:hover {\n",
              "      background-color: #E2EBFA;\n",
              "      box-shadow: 0px 1px 2px rgba(60, 64, 67, 0.3), 0px 1px 3px 1px rgba(60, 64, 67, 0.15);\n",
              "      fill: #174EA6;\n",
              "    }\n",
              "\n",
              "    [theme=dark] .colab-df-convert {\n",
              "      background-color: #3B4455;\n",
              "      fill: #D2E3FC;\n",
              "    }\n",
              "\n",
              "    [theme=dark] .colab-df-convert:hover {\n",
              "      background-color: #434B5C;\n",
              "      box-shadow: 0px 1px 3px 1px rgba(0, 0, 0, 0.15);\n",
              "      filter: drop-shadow(0px 1px 2px rgba(0, 0, 0, 0.3));\n",
              "      fill: #FFFFFF;\n",
              "    }\n",
              "  </style>\n",
              "\n",
              "      <script>\n",
              "        const buttonEl =\n",
              "          document.querySelector('#df-106abc2f-c412-4137-bafb-088a2cb8faa5 button.colab-df-convert');\n",
              "        buttonEl.style.display =\n",
              "          google.colab.kernel.accessAllowed ? 'block' : 'none';\n",
              "\n",
              "        async function convertToInteractive(key) {\n",
              "          const element = document.querySelector('#df-106abc2f-c412-4137-bafb-088a2cb8faa5');\n",
              "          const dataTable =\n",
              "            await google.colab.kernel.invokeFunction('convertToInteractive',\n",
              "                                                     [key], {});\n",
              "          if (!dataTable) return;\n",
              "\n",
              "          const docLinkHtml = 'Like what you see? Visit the ' +\n",
              "            '<a target=\"_blank\" href=https://colab.research.google.com/notebooks/data_table.ipynb>data table notebook</a>'\n",
              "            + ' to learn more about interactive tables.';\n",
              "          element.innerHTML = '';\n",
              "          dataTable['output_type'] = 'display_data';\n",
              "          await google.colab.output.renderOutput(dataTable, element);\n",
              "          const docLink = document.createElement('div');\n",
              "          docLink.innerHTML = docLinkHtml;\n",
              "          element.appendChild(docLink);\n",
              "        }\n",
              "      </script>\n",
              "    </div>\n",
              "  </div>\n",
              "  "
            ]
          },
          "metadata": {},
          "execution_count": 80
        }
      ]
    },
    {
      "cell_type": "code",
      "source": [
        "df.tail(2)"
      ],
      "metadata": {
        "colab": {
          "base_uri": "https://localhost:8080/",
          "height": 257
        },
        "id": "GYOf0__bwF7b",
        "outputId": "5c4e7fd7-e740-4999-f937-559fb8fea83b"
      },
      "execution_count": null,
      "outputs": [
        {
          "output_type": "execute_result",
          "data": {
            "text/plain": [
              "       Source Port  Destination Port  Protocol  Flow Duration  \\\n",
              "44998        33200              1900        17            869   \n",
              "44999        39451               443         6            871   \n",
              "\n",
              "       Total Fwd Packets  Total Backward Packets  Total Length of Fwd Packets  \\\n",
              "44998                  4                       0                          530   \n",
              "44999                  2                       0                            0   \n",
              "\n",
              "       Total Length of Bwd Packets  Fwd Packet Length Max  \\\n",
              "44998                            0                    133   \n",
              "44999                            0                      0   \n",
              "\n",
              "       Fwd Packet Length Min  ...  Destination IP_98.138.81.73  \\\n",
              "44998                    132  ...                            0   \n",
              "44999                      0  ...                            0   \n",
              "\n",
              "       Destination IP_98.139.180.180  Destination IP_98.139.180.181  \\\n",
              "44998                              0                              0   \n",
              "44999                              0                              0   \n",
              "\n",
              "       Destination IP_98.139.183.24  Destination IP_98.139.199.204  \\\n",
              "44998                             0                              0   \n",
              "44999                             0                              0   \n",
              "\n",
              "       Destination IP_98.139.199.205  Destination IP_98.139.225.43  \\\n",
              "44998                              0                             0   \n",
              "44999                              0                             0   \n",
              "\n",
              "       Destination IP_98.221.60.177  Destination IP_99.224.25.39  \\\n",
              "44998                             0                            0   \n",
              "44999                             0                            0   \n",
              "\n",
              "       Label_RANSOMWARE_CHARGER  \n",
              "44998                         1  \n",
              "44999                         1  \n",
              "\n",
              "[2 rows x 2338 columns]"
            ],
            "text/html": [
              "\n",
              "  <div id=\"df-a31fc2d1-00a4-46f9-be48-c8a3227a397e\">\n",
              "    <div class=\"colab-df-container\">\n",
              "      <div>\n",
              "<style scoped>\n",
              "    .dataframe tbody tr th:only-of-type {\n",
              "        vertical-align: middle;\n",
              "    }\n",
              "\n",
              "    .dataframe tbody tr th {\n",
              "        vertical-align: top;\n",
              "    }\n",
              "\n",
              "    .dataframe thead th {\n",
              "        text-align: right;\n",
              "    }\n",
              "</style>\n",
              "<table border=\"1\" class=\"dataframe\">\n",
              "  <thead>\n",
              "    <tr style=\"text-align: right;\">\n",
              "      <th></th>\n",
              "      <th>Source Port</th>\n",
              "      <th>Destination Port</th>\n",
              "      <th>Protocol</th>\n",
              "      <th>Flow Duration</th>\n",
              "      <th>Total Fwd Packets</th>\n",
              "      <th>Total Backward Packets</th>\n",
              "      <th>Total Length of Fwd Packets</th>\n",
              "      <th>Total Length of Bwd Packets</th>\n",
              "      <th>Fwd Packet Length Max</th>\n",
              "      <th>Fwd Packet Length Min</th>\n",
              "      <th>...</th>\n",
              "      <th>Destination IP_98.138.81.73</th>\n",
              "      <th>Destination IP_98.139.180.180</th>\n",
              "      <th>Destination IP_98.139.180.181</th>\n",
              "      <th>Destination IP_98.139.183.24</th>\n",
              "      <th>Destination IP_98.139.199.204</th>\n",
              "      <th>Destination IP_98.139.199.205</th>\n",
              "      <th>Destination IP_98.139.225.43</th>\n",
              "      <th>Destination IP_98.221.60.177</th>\n",
              "      <th>Destination IP_99.224.25.39</th>\n",
              "      <th>Label_RANSOMWARE_CHARGER</th>\n",
              "    </tr>\n",
              "  </thead>\n",
              "  <tbody>\n",
              "    <tr>\n",
              "      <th>44998</th>\n",
              "      <td>33200</td>\n",
              "      <td>1900</td>\n",
              "      <td>17</td>\n",
              "      <td>869</td>\n",
              "      <td>4</td>\n",
              "      <td>0</td>\n",
              "      <td>530</td>\n",
              "      <td>0</td>\n",
              "      <td>133</td>\n",
              "      <td>132</td>\n",
              "      <td>...</td>\n",
              "      <td>0</td>\n",
              "      <td>0</td>\n",
              "      <td>0</td>\n",
              "      <td>0</td>\n",
              "      <td>0</td>\n",
              "      <td>0</td>\n",
              "      <td>0</td>\n",
              "      <td>0</td>\n",
              "      <td>0</td>\n",
              "      <td>1</td>\n",
              "    </tr>\n",
              "    <tr>\n",
              "      <th>44999</th>\n",
              "      <td>39451</td>\n",
              "      <td>443</td>\n",
              "      <td>6</td>\n",
              "      <td>871</td>\n",
              "      <td>2</td>\n",
              "      <td>0</td>\n",
              "      <td>0</td>\n",
              "      <td>0</td>\n",
              "      <td>0</td>\n",
              "      <td>0</td>\n",
              "      <td>...</td>\n",
              "      <td>0</td>\n",
              "      <td>0</td>\n",
              "      <td>0</td>\n",
              "      <td>0</td>\n",
              "      <td>0</td>\n",
              "      <td>0</td>\n",
              "      <td>0</td>\n",
              "      <td>0</td>\n",
              "      <td>0</td>\n",
              "      <td>1</td>\n",
              "    </tr>\n",
              "  </tbody>\n",
              "</table>\n",
              "<p>2 rows × 2338 columns</p>\n",
              "</div>\n",
              "      <button class=\"colab-df-convert\" onclick=\"convertToInteractive('df-a31fc2d1-00a4-46f9-be48-c8a3227a397e')\"\n",
              "              title=\"Convert this dataframe to an interactive table.\"\n",
              "              style=\"display:none;\">\n",
              "        \n",
              "  <svg xmlns=\"http://www.w3.org/2000/svg\" height=\"24px\"viewBox=\"0 0 24 24\"\n",
              "       width=\"24px\">\n",
              "    <path d=\"M0 0h24v24H0V0z\" fill=\"none\"/>\n",
              "    <path d=\"M18.56 5.44l.94 2.06.94-2.06 2.06-.94-2.06-.94-.94-2.06-.94 2.06-2.06.94zm-11 1L8.5 8.5l.94-2.06 2.06-.94-2.06-.94L8.5 2.5l-.94 2.06-2.06.94zm10 10l.94 2.06.94-2.06 2.06-.94-2.06-.94-.94-2.06-.94 2.06-2.06.94z\"/><path d=\"M17.41 7.96l-1.37-1.37c-.4-.4-.92-.59-1.43-.59-.52 0-1.04.2-1.43.59L10.3 9.45l-7.72 7.72c-.78.78-.78 2.05 0 2.83L4 21.41c.39.39.9.59 1.41.59.51 0 1.02-.2 1.41-.59l7.78-7.78 2.81-2.81c.8-.78.8-2.07 0-2.86zM5.41 20L4 18.59l7.72-7.72 1.47 1.35L5.41 20z\"/>\n",
              "  </svg>\n",
              "      </button>\n",
              "      \n",
              "  <style>\n",
              "    .colab-df-container {\n",
              "      display:flex;\n",
              "      flex-wrap:wrap;\n",
              "      gap: 12px;\n",
              "    }\n",
              "\n",
              "    .colab-df-convert {\n",
              "      background-color: #E8F0FE;\n",
              "      border: none;\n",
              "      border-radius: 50%;\n",
              "      cursor: pointer;\n",
              "      display: none;\n",
              "      fill: #1967D2;\n",
              "      height: 32px;\n",
              "      padding: 0 0 0 0;\n",
              "      width: 32px;\n",
              "    }\n",
              "\n",
              "    .colab-df-convert:hover {\n",
              "      background-color: #E2EBFA;\n",
              "      box-shadow: 0px 1px 2px rgba(60, 64, 67, 0.3), 0px 1px 3px 1px rgba(60, 64, 67, 0.15);\n",
              "      fill: #174EA6;\n",
              "    }\n",
              "\n",
              "    [theme=dark] .colab-df-convert {\n",
              "      background-color: #3B4455;\n",
              "      fill: #D2E3FC;\n",
              "    }\n",
              "\n",
              "    [theme=dark] .colab-df-convert:hover {\n",
              "      background-color: #434B5C;\n",
              "      box-shadow: 0px 1px 3px 1px rgba(0, 0, 0, 0.15);\n",
              "      filter: drop-shadow(0px 1px 2px rgba(0, 0, 0, 0.3));\n",
              "      fill: #FFFFFF;\n",
              "    }\n",
              "  </style>\n",
              "\n",
              "      <script>\n",
              "        const buttonEl =\n",
              "          document.querySelector('#df-a31fc2d1-00a4-46f9-be48-c8a3227a397e button.colab-df-convert');\n",
              "        buttonEl.style.display =\n",
              "          google.colab.kernel.accessAllowed ? 'block' : 'none';\n",
              "\n",
              "        async function convertToInteractive(key) {\n",
              "          const element = document.querySelector('#df-a31fc2d1-00a4-46f9-be48-c8a3227a397e');\n",
              "          const dataTable =\n",
              "            await google.colab.kernel.invokeFunction('convertToInteractive',\n",
              "                                                     [key], {});\n",
              "          if (!dataTable) return;\n",
              "\n",
              "          const docLinkHtml = 'Like what you see? Visit the ' +\n",
              "            '<a target=\"_blank\" href=https://colab.research.google.com/notebooks/data_table.ipynb>data table notebook</a>'\n",
              "            + ' to learn more about interactive tables.';\n",
              "          element.innerHTML = '';\n",
              "          dataTable['output_type'] = 'display_data';\n",
              "          await google.colab.output.renderOutput(dataTable, element);\n",
              "          const docLink = document.createElement('div');\n",
              "          docLink.innerHTML = docLinkHtml;\n",
              "          element.appendChild(docLink);\n",
              "        }\n",
              "      </script>\n",
              "    </div>\n",
              "  </div>\n",
              "  "
            ]
          },
          "metadata": {},
          "execution_count": 81
        }
      ]
    },
    {
      "cell_type": "code",
      "source": [
        "df.shape"
      ],
      "metadata": {
        "colab": {
          "base_uri": "https://localhost:8080/"
        },
        "id": "81f-ETs-2Dt_",
        "outputId": "2c81690a-f85e-4759-9b81-c3caf84c5641"
      },
      "execution_count": null,
      "outputs": [
        {
          "output_type": "execute_result",
          "data": {
            "text/plain": [
              "(45000, 2338)"
            ]
          },
          "metadata": {},
          "execution_count": 82
        }
      ]
    },
    {
      "cell_type": "code",
      "source": [
        "len = df.shape[0]\n",
        "len"
      ],
      "metadata": {
        "colab": {
          "base_uri": "https://localhost:8080/"
        },
        "id": "9I184bI8wF5a",
        "outputId": "e1e48d53-a4b5-441a-d83f-86bdde5bb737"
      },
      "execution_count": null,
      "outputs": [
        {
          "output_type": "execute_result",
          "data": {
            "text/plain": [
              "45000"
            ]
          },
          "metadata": {},
          "execution_count": 83
        }
      ]
    },
    {
      "cell_type": "code",
      "source": [
        "x_train = df[:len].drop(['Label_RANSOMWARE_CHARGER'],axis=1)\n",
        "y_train = df['Label_RANSOMWARE_CHARGER']"
      ],
      "metadata": {
        "id": "-hK1RWUw1zri"
      },
      "execution_count": null,
      "outputs": []
    },
    {
      "cell_type": "code",
      "source": [
        "from sklearn.feature_selection import VarianceThreshold\n",
        "var_thre = VarianceThreshold(threshold = 0.0)\n",
        "var_thre.fit(x_train)"
      ],
      "metadata": {
        "colab": {
          "base_uri": "https://localhost:8080/"
        },
        "id": "xsc-EAHTXdCh",
        "outputId": "56e480a7-8654-4052-a56e-0cf95fcce0ba"
      },
      "execution_count": null,
      "outputs": [
        {
          "output_type": "execute_result",
          "data": {
            "text/plain": [
              "VarianceThreshold()"
            ]
          },
          "metadata": {},
          "execution_count": 85
        }
      ]
    },
    {
      "cell_type": "code",
      "source": [
        "var_thre.get_support()"
      ],
      "metadata": {
        "colab": {
          "base_uri": "https://localhost:8080/"
        },
        "id": "fjcDLX00Xjui",
        "outputId": "71681559-31cd-4d44-c7eb-02d7521389e6"
      },
      "execution_count": null,
      "outputs": [
        {
          "output_type": "execute_result",
          "data": {
            "text/plain": [
              "array([ True,  True,  True, ...,  True,  True,  True])"
            ]
          },
          "metadata": {},
          "execution_count": 86
        }
      ]
    },
    {
      "cell_type": "code",
      "source": [
        "constant_columns = [column for column in x_train.columns if column not in x_train.columns[var_thre.get_support()]]"
      ],
      "metadata": {
        "id": "Y0B9DABrXnN8"
      },
      "execution_count": null,
      "outputs": []
    },
    {
      "cell_type": "code",
      "source": [
        "x_train = x_train.drop([column for column in constant_columns],axis = 1)\n",
        "x_train.shape"
      ],
      "metadata": {
        "colab": {
          "base_uri": "https://localhost:8080/"
        },
        "id": "_hktdsdsYfYR",
        "outputId": "10e751e7-5169-4511-9a18-e56dea9822a3"
      },
      "execution_count": null,
      "outputs": [
        {
          "output_type": "execute_result",
          "data": {
            "text/plain": [
              "(45000, 2325)"
            ]
          },
          "metadata": {},
          "execution_count": 88
        }
      ]
    },
    {
      "cell_type": "code",
      "source": [
        "from sklearn.model_selection import train_test_split\n",
        "x_train,x_test,y_train,y_test = train_test_split(x_train,y_train,test_size=0.3,random_state=1)"
      ],
      "metadata": {
        "id": "ICdqJhVPtFqI"
      },
      "execution_count": null,
      "outputs": []
    },
    {
      "cell_type": "code",
      "source": [
        "print(\"x_train\",x_train.shape)\n",
        "print(\"y_train\",y_train.shape)\n",
        "print(\"x_test\",x_test.shape)\n",
        "print(\"y_test\",y_test.shape)"
      ],
      "metadata": {
        "colab": {
          "base_uri": "https://localhost:8080/"
        },
        "id": "kXV9k5Xk4XC6",
        "outputId": "ba907ac7-0ed9-4035-c463-e86d8301e716"
      },
      "execution_count": null,
      "outputs": [
        {
          "output_type": "stream",
          "name": "stdout",
          "text": [
            "x_train (31500, 2325)\n",
            "y_train (31500,)\n",
            "x_test (13500, 2325)\n",
            "y_test (13500,)\n"
          ]
        }
      ]
    },
    {
      "cell_type": "code",
      "source": [
        "x_train.head()"
      ],
      "metadata": {
        "colab": {
          "base_uri": "https://localhost:8080/",
          "height": 352
        },
        "id": "z-7bWhmZ1zqD",
        "outputId": "f8a5b770-8319-4c97-a827-ab1ac3bf3d24"
      },
      "execution_count": null,
      "outputs": [
        {
          "output_type": "execute_result",
          "data": {
            "text/plain": [
              "       Source Port  Destination Port  Protocol  Flow Duration  \\\n",
              "20752         1167                53        17         137205   \n",
              "42243        35528               443         6        6407725   \n",
              "20589        30049                53        17          50860   \n",
              "23732        55470               443         6       13980725   \n",
              "2541            80             45194         6           2094   \n",
              "\n",
              "       Total Fwd Packets  Total Backward Packets  Total Length of Fwd Packets  \\\n",
              "20752                  1                       1                           27   \n",
              "42243                  3                       0                            0   \n",
              "20589                  1                       1                           31   \n",
              "23732                  7                       6                          334   \n",
              "2541                   1                       1                            0   \n",
              "\n",
              "       Total Length of Bwd Packets  Fwd Packet Length Max  \\\n",
              "20752                           59                     27   \n",
              "42243                            0                      0   \n",
              "20589                           47                     31   \n",
              "23732                         3240                    208   \n",
              "2541                             0                      0   \n",
              "\n",
              "       Fwd Packet Length Min  ...  Destination IP_98.138.49.44  \\\n",
              "20752                     27  ...                            0   \n",
              "42243                      0  ...                            0   \n",
              "20589                     31  ...                            0   \n",
              "23732                      0  ...                            0   \n",
              "2541                       0  ...                            0   \n",
              "\n",
              "       Destination IP_98.138.81.73  Destination IP_98.139.180.180  \\\n",
              "20752                            0                              0   \n",
              "42243                            0                              0   \n",
              "20589                            0                              0   \n",
              "23732                            0                              0   \n",
              "2541                             0                              0   \n",
              "\n",
              "       Destination IP_98.139.180.181  Destination IP_98.139.183.24  \\\n",
              "20752                              0                             0   \n",
              "42243                              0                             0   \n",
              "20589                              0                             0   \n",
              "23732                              0                             0   \n",
              "2541                               0                             0   \n",
              "\n",
              "       Destination IP_98.139.199.204  Destination IP_98.139.199.205  \\\n",
              "20752                              0                              0   \n",
              "42243                              0                              0   \n",
              "20589                              0                              0   \n",
              "23732                              0                              0   \n",
              "2541                               0                              0   \n",
              "\n",
              "       Destination IP_98.139.225.43  Destination IP_98.221.60.177  \\\n",
              "20752                             0                             0   \n",
              "42243                             0                             0   \n",
              "20589                             0                             0   \n",
              "23732                             0                             0   \n",
              "2541                              0                             0   \n",
              "\n",
              "       Destination IP_99.224.25.39  \n",
              "20752                            0  \n",
              "42243                            0  \n",
              "20589                            0  \n",
              "23732                            0  \n",
              "2541                             0  \n",
              "\n",
              "[5 rows x 2325 columns]"
            ],
            "text/html": [
              "\n",
              "  <div id=\"df-251b3c5d-ce10-4e98-880b-993226797a32\">\n",
              "    <div class=\"colab-df-container\">\n",
              "      <div>\n",
              "<style scoped>\n",
              "    .dataframe tbody tr th:only-of-type {\n",
              "        vertical-align: middle;\n",
              "    }\n",
              "\n",
              "    .dataframe tbody tr th {\n",
              "        vertical-align: top;\n",
              "    }\n",
              "\n",
              "    .dataframe thead th {\n",
              "        text-align: right;\n",
              "    }\n",
              "</style>\n",
              "<table border=\"1\" class=\"dataframe\">\n",
              "  <thead>\n",
              "    <tr style=\"text-align: right;\">\n",
              "      <th></th>\n",
              "      <th>Source Port</th>\n",
              "      <th>Destination Port</th>\n",
              "      <th>Protocol</th>\n",
              "      <th>Flow Duration</th>\n",
              "      <th>Total Fwd Packets</th>\n",
              "      <th>Total Backward Packets</th>\n",
              "      <th>Total Length of Fwd Packets</th>\n",
              "      <th>Total Length of Bwd Packets</th>\n",
              "      <th>Fwd Packet Length Max</th>\n",
              "      <th>Fwd Packet Length Min</th>\n",
              "      <th>...</th>\n",
              "      <th>Destination IP_98.138.49.44</th>\n",
              "      <th>Destination IP_98.138.81.73</th>\n",
              "      <th>Destination IP_98.139.180.180</th>\n",
              "      <th>Destination IP_98.139.180.181</th>\n",
              "      <th>Destination IP_98.139.183.24</th>\n",
              "      <th>Destination IP_98.139.199.204</th>\n",
              "      <th>Destination IP_98.139.199.205</th>\n",
              "      <th>Destination IP_98.139.225.43</th>\n",
              "      <th>Destination IP_98.221.60.177</th>\n",
              "      <th>Destination IP_99.224.25.39</th>\n",
              "    </tr>\n",
              "  </thead>\n",
              "  <tbody>\n",
              "    <tr>\n",
              "      <th>20752</th>\n",
              "      <td>1167</td>\n",
              "      <td>53</td>\n",
              "      <td>17</td>\n",
              "      <td>137205</td>\n",
              "      <td>1</td>\n",
              "      <td>1</td>\n",
              "      <td>27</td>\n",
              "      <td>59</td>\n",
              "      <td>27</td>\n",
              "      <td>27</td>\n",
              "      <td>...</td>\n",
              "      <td>0</td>\n",
              "      <td>0</td>\n",
              "      <td>0</td>\n",
              "      <td>0</td>\n",
              "      <td>0</td>\n",
              "      <td>0</td>\n",
              "      <td>0</td>\n",
              "      <td>0</td>\n",
              "      <td>0</td>\n",
              "      <td>0</td>\n",
              "    </tr>\n",
              "    <tr>\n",
              "      <th>42243</th>\n",
              "      <td>35528</td>\n",
              "      <td>443</td>\n",
              "      <td>6</td>\n",
              "      <td>6407725</td>\n",
              "      <td>3</td>\n",
              "      <td>0</td>\n",
              "      <td>0</td>\n",
              "      <td>0</td>\n",
              "      <td>0</td>\n",
              "      <td>0</td>\n",
              "      <td>...</td>\n",
              "      <td>0</td>\n",
              "      <td>0</td>\n",
              "      <td>0</td>\n",
              "      <td>0</td>\n",
              "      <td>0</td>\n",
              "      <td>0</td>\n",
              "      <td>0</td>\n",
              "      <td>0</td>\n",
              "      <td>0</td>\n",
              "      <td>0</td>\n",
              "    </tr>\n",
              "    <tr>\n",
              "      <th>20589</th>\n",
              "      <td>30049</td>\n",
              "      <td>53</td>\n",
              "      <td>17</td>\n",
              "      <td>50860</td>\n",
              "      <td>1</td>\n",
              "      <td>1</td>\n",
              "      <td>31</td>\n",
              "      <td>47</td>\n",
              "      <td>31</td>\n",
              "      <td>31</td>\n",
              "      <td>...</td>\n",
              "      <td>0</td>\n",
              "      <td>0</td>\n",
              "      <td>0</td>\n",
              "      <td>0</td>\n",
              "      <td>0</td>\n",
              "      <td>0</td>\n",
              "      <td>0</td>\n",
              "      <td>0</td>\n",
              "      <td>0</td>\n",
              "      <td>0</td>\n",
              "    </tr>\n",
              "    <tr>\n",
              "      <th>23732</th>\n",
              "      <td>55470</td>\n",
              "      <td>443</td>\n",
              "      <td>6</td>\n",
              "      <td>13980725</td>\n",
              "      <td>7</td>\n",
              "      <td>6</td>\n",
              "      <td>334</td>\n",
              "      <td>3240</td>\n",
              "      <td>208</td>\n",
              "      <td>0</td>\n",
              "      <td>...</td>\n",
              "      <td>0</td>\n",
              "      <td>0</td>\n",
              "      <td>0</td>\n",
              "      <td>0</td>\n",
              "      <td>0</td>\n",
              "      <td>0</td>\n",
              "      <td>0</td>\n",
              "      <td>0</td>\n",
              "      <td>0</td>\n",
              "      <td>0</td>\n",
              "    </tr>\n",
              "    <tr>\n",
              "      <th>2541</th>\n",
              "      <td>80</td>\n",
              "      <td>45194</td>\n",
              "      <td>6</td>\n",
              "      <td>2094</td>\n",
              "      <td>1</td>\n",
              "      <td>1</td>\n",
              "      <td>0</td>\n",
              "      <td>0</td>\n",
              "      <td>0</td>\n",
              "      <td>0</td>\n",
              "      <td>...</td>\n",
              "      <td>0</td>\n",
              "      <td>0</td>\n",
              "      <td>0</td>\n",
              "      <td>0</td>\n",
              "      <td>0</td>\n",
              "      <td>0</td>\n",
              "      <td>0</td>\n",
              "      <td>0</td>\n",
              "      <td>0</td>\n",
              "      <td>0</td>\n",
              "    </tr>\n",
              "  </tbody>\n",
              "</table>\n",
              "<p>5 rows × 2325 columns</p>\n",
              "</div>\n",
              "      <button class=\"colab-df-convert\" onclick=\"convertToInteractive('df-251b3c5d-ce10-4e98-880b-993226797a32')\"\n",
              "              title=\"Convert this dataframe to an interactive table.\"\n",
              "              style=\"display:none;\">\n",
              "        \n",
              "  <svg xmlns=\"http://www.w3.org/2000/svg\" height=\"24px\"viewBox=\"0 0 24 24\"\n",
              "       width=\"24px\">\n",
              "    <path d=\"M0 0h24v24H0V0z\" fill=\"none\"/>\n",
              "    <path d=\"M18.56 5.44l.94 2.06.94-2.06 2.06-.94-2.06-.94-.94-2.06-.94 2.06-2.06.94zm-11 1L8.5 8.5l.94-2.06 2.06-.94-2.06-.94L8.5 2.5l-.94 2.06-2.06.94zm10 10l.94 2.06.94-2.06 2.06-.94-2.06-.94-.94-2.06-.94 2.06-2.06.94z\"/><path d=\"M17.41 7.96l-1.37-1.37c-.4-.4-.92-.59-1.43-.59-.52 0-1.04.2-1.43.59L10.3 9.45l-7.72 7.72c-.78.78-.78 2.05 0 2.83L4 21.41c.39.39.9.59 1.41.59.51 0 1.02-.2 1.41-.59l7.78-7.78 2.81-2.81c.8-.78.8-2.07 0-2.86zM5.41 20L4 18.59l7.72-7.72 1.47 1.35L5.41 20z\"/>\n",
              "  </svg>\n",
              "      </button>\n",
              "      \n",
              "  <style>\n",
              "    .colab-df-container {\n",
              "      display:flex;\n",
              "      flex-wrap:wrap;\n",
              "      gap: 12px;\n",
              "    }\n",
              "\n",
              "    .colab-df-convert {\n",
              "      background-color: #E8F0FE;\n",
              "      border: none;\n",
              "      border-radius: 50%;\n",
              "      cursor: pointer;\n",
              "      display: none;\n",
              "      fill: #1967D2;\n",
              "      height: 32px;\n",
              "      padding: 0 0 0 0;\n",
              "      width: 32px;\n",
              "    }\n",
              "\n",
              "    .colab-df-convert:hover {\n",
              "      background-color: #E2EBFA;\n",
              "      box-shadow: 0px 1px 2px rgba(60, 64, 67, 0.3), 0px 1px 3px 1px rgba(60, 64, 67, 0.15);\n",
              "      fill: #174EA6;\n",
              "    }\n",
              "\n",
              "    [theme=dark] .colab-df-convert {\n",
              "      background-color: #3B4455;\n",
              "      fill: #D2E3FC;\n",
              "    }\n",
              "\n",
              "    [theme=dark] .colab-df-convert:hover {\n",
              "      background-color: #434B5C;\n",
              "      box-shadow: 0px 1px 3px 1px rgba(0, 0, 0, 0.15);\n",
              "      filter: drop-shadow(0px 1px 2px rgba(0, 0, 0, 0.3));\n",
              "      fill: #FFFFFF;\n",
              "    }\n",
              "  </style>\n",
              "\n",
              "      <script>\n",
              "        const buttonEl =\n",
              "          document.querySelector('#df-251b3c5d-ce10-4e98-880b-993226797a32 button.colab-df-convert');\n",
              "        buttonEl.style.display =\n",
              "          google.colab.kernel.accessAllowed ? 'block' : 'none';\n",
              "\n",
              "        async function convertToInteractive(key) {\n",
              "          const element = document.querySelector('#df-251b3c5d-ce10-4e98-880b-993226797a32');\n",
              "          const dataTable =\n",
              "            await google.colab.kernel.invokeFunction('convertToInteractive',\n",
              "                                                     [key], {});\n",
              "          if (!dataTable) return;\n",
              "\n",
              "          const docLinkHtml = 'Like what you see? Visit the ' +\n",
              "            '<a target=\"_blank\" href=https://colab.research.google.com/notebooks/data_table.ipynb>data table notebook</a>'\n",
              "            + ' to learn more about interactive tables.';\n",
              "          element.innerHTML = '';\n",
              "          dataTable['output_type'] = 'display_data';\n",
              "          await google.colab.output.renderOutput(dataTable, element);\n",
              "          const docLink = document.createElement('div');\n",
              "          docLink.innerHTML = docLinkHtml;\n",
              "          element.appendChild(docLink);\n",
              "        }\n",
              "      </script>\n",
              "    </div>\n",
              "  </div>\n",
              "  "
            ]
          },
          "metadata": {},
          "execution_count": 91
        }
      ]
    },
    {
      "cell_type": "code",
      "source": [
        "y_train.tail(10)"
      ],
      "metadata": {
        "colab": {
          "base_uri": "https://localhost:8080/"
        },
        "id": "9gOaBH8U1znI",
        "outputId": "77663001-e833-46e0-deb2-fdaf2b01ae16"
      },
      "execution_count": null,
      "outputs": [
        {
          "output_type": "execute_result",
          "data": {
            "text/plain": [
              "7751     0\n",
              "20609    0\n",
              "32912    1\n",
              "21440    0\n",
              "7813     0\n",
              "43723    1\n",
              "32511    1\n",
              "5192     0\n",
              "12172    0\n",
              "33003    1\n",
              "Name: Label_RANSOMWARE_CHARGER, dtype: uint8"
            ]
          },
          "metadata": {},
          "execution_count": 92
        }
      ]
    },
    {
      "cell_type": "code",
      "source": [
        "from sklearn.preprocessing import StandardScaler"
      ],
      "metadata": {
        "id": "VsTRY6EE1zje"
      },
      "execution_count": null,
      "outputs": []
    },
    {
      "cell_type": "code",
      "source": [
        "sc = StandardScaler()\n",
        "sc.fit(x_train)\n",
        "sc.fit(x_test)\n",
        "x_train = sc.transform(x_train)\n",
        "x_test = sc.transform(x_test)"
      ],
      "metadata": {
        "id": "3JSdQyFA1zf9"
      },
      "execution_count": null,
      "outputs": []
    },
    {
      "cell_type": "code",
      "source": [
        "x_train[:3,:]"
      ],
      "metadata": {
        "colab": {
          "base_uri": "https://localhost:8080/"
        },
        "id": "Vtwa2W3k1zeG",
        "outputId": "d7e30072-1d0a-49ef-ef05-0222a61e9c3d"
      },
      "execution_count": null,
      "outputs": [
        {
          "output_type": "execute_result",
          "data": {
            "text/plain": [
              "array([[-2.03015708, -0.38895681,  1.7803623 , ..., -0.01721581,\n",
              "         0.        , -0.01217251],\n",
              "       [-0.17007494, -0.36353379, -0.5463045 , ..., -0.01721581,\n",
              "         0.        , -0.01217251],\n",
              "       [-0.46667254, -0.38895681,  1.7803623 , ..., -0.01721581,\n",
              "         0.        , -0.01217251]])"
            ]
          },
          "metadata": {},
          "execution_count": 95
        }
      ]
    },
    {
      "cell_type": "code",
      "source": [
        "from sklearn.svm import SVR\n",
        "from sklearn.linear_model import LinearRegression\n",
        "from sklearn.neighbors import KNeighborsRegressor\n",
        "from sklearn.tree import DecisionTreeRegressor\n",
        "\n",
        "from sklearn.ensemble import GradientBoostingRegressor\n",
        "from sklearn.ensemble import RandomForestRegressor\n",
        "from sklearn.ensemble import AdaBoostRegressor\n",
        "\n",
        "import pandas as pd\n",
        "from sklearn import model_selection\n",
        "from sklearn.ensemble import AdaBoostClassifier\n",
        "\n",
        "from sklearn import svm\n",
        "from xgboost import XGBClassifier\n"
      ],
      "metadata": {
        "id": "ef7AwHl_1za0"
      },
      "execution_count": null,
      "outputs": []
    },
    {
      "cell_type": "code",
      "source": [
        "model_acc_class = []"
      ],
      "metadata": {
        "id": "__YR-YSLzpNe"
      },
      "execution_count": 241,
      "outputs": []
    },
    {
      "cell_type": "code",
      "source": [
        "f1_score_array = []\n",
        "recall_score_array = []\n",
        "precision_score_array = []"
      ],
      "metadata": {
        "id": "ttGY0fNa8wOf"
      },
      "execution_count": 293,
      "outputs": []
    },
    {
      "cell_type": "code",
      "source": [
        "svr = SVR()\n",
        "lr = LinearRegression()\n",
        "knr = KNeighborsRegressor()\n",
        "dtr = DecisionTreeRegressor()\n",
        "gbr = GradientBoostingRegressor()\n",
        "rfr = RandomForestRegressor()\n",
        "abr = AdaBoostRegressor()"
      ],
      "metadata": {
        "id": "TCtWqs9R1zZS"
      },
      "execution_count": null,
      "outputs": []
    },
    {
      "cell_type": "code",
      "source": [
        "kfold = model_selection.KFold(n_splits=10,shuffle=True,random_state=7)\n",
        "model = AdaBoostClassifier(n_estimators=30,random_state=7)\n",
        "results = model_selection.cross_val_score(model,x_train,y_train,cv=kfold)\n",
        "print(results.mean())\n",
        "m1 = results.mead()*100;\n",
        "model_acc_class.append(results.mean()*100)"
      ],
      "metadata": {
        "colab": {
          "base_uri": "https://localhost:8080/"
        },
        "id": "b8564a8NwdCM",
        "outputId": "70734637-00bb-4464-bcc2-30c8bc1f46f6"
      },
      "execution_count": 242,
      "outputs": [
        {
          "output_type": "stream",
          "name": "stdout",
          "text": [
            "0.9986349206349207\n"
          ]
        }
      ]
    },
    {
      "cell_type": "code",
      "source": [
        "from sklearn import svm\n",
        "from xgboost import XGBClassifier\n",
        "clf = XGBClassifier()\n",
        "seed = 7\n",
        "num_trees=30\n",
        "kfold = model_selection.KFold(n_splits=10,shuffle=True,random_state=seed)\n",
        "model = XGBClassifier(n_estimators=num_trees,random_state=seed)\n",
        "results = model_selection.cross_val_score(model,x_train,y_train,cv=kfold)\n",
        "print(results.mean())\n",
        "m2 = results.mean()*100;\n",
        "model_acc_class.append(m2)"
      ],
      "metadata": {
        "colab": {
          "base_uri": "https://localhost:8080/"
        },
        "id": "Yz5Fnh5Vw2Lr",
        "outputId": "2ccd9574-af5b-4d53-8d9b-9f2babf9298f"
      },
      "execution_count": 245,
      "outputs": [
        {
          "output_type": "stream",
          "name": "stdout",
          "text": [
            "0.9951111111111113\n"
          ]
        }
      ]
    },
    {
      "cell_type": "code",
      "source": [
        "clf.fit(x_train,y_train)\n",
        "abc = AdaBoostClassifier()\n",
        "abc.fit(x_train,y_train)"
      ],
      "metadata": {
        "colab": {
          "base_uri": "https://localhost:8080/"
        },
        "id": "93PSi2T9w4Ya",
        "outputId": "73da64aa-529c-48f4-c799-ba794b83730d"
      },
      "execution_count": null,
      "outputs": [
        {
          "output_type": "execute_result",
          "data": {
            "text/plain": [
              "AdaBoostClassifier()"
            ]
          },
          "metadata": {},
          "execution_count": 208
        }
      ]
    },
    {
      "cell_type": "code",
      "source": [
        "y_pred_clf = clf.predict(x_test)\n",
        "y_pred_abc = abc.predict(x_test)"
      ],
      "metadata": {
        "id": "ImFNWu9dxbMl"
      },
      "execution_count": null,
      "outputs": []
    },
    {
      "cell_type": "code",
      "source": [
        "from sklearn.metrics import precision_score, recall_score,f1_score"
      ],
      "metadata": {
        "id": "r0klBCvvD4QS"
      },
      "execution_count": null,
      "outputs": []
    },
    {
      "cell_type": "code",
      "source": [
        "a1 = (precision_score(y_test,y_pred_clf,average='weighted'))\n",
        "a2 = (recall_score(y_test,y_pred_clf,average='weighted'))\n",
        "a3 = (f1_score(y_test,y_pred_clf,average='weighted'))\n",
        "# f1_score_array.append(a3*100)\n",
        "# recall_score_array.append(a2*100)\n",
        "# precision_score_array.append(a1*100)"
      ],
      "metadata": {
        "id": "RVSo7nr0EaLR"
      },
      "execution_count": 290,
      "outputs": []
    },
    {
      "cell_type": "code",
      "source": [
        "b1 = (precision_score(y_test,y_pred_abc,average='weighted'))\n",
        "b2 = (recall_score(y_test,y_pred_abc,average='weighted'))\n",
        "b3 = (f1_score(y_test,y_pred_abc,average='weighted'))\n",
        "f1_score_array.append(b3*100)\n",
        "recall_score_array.append(b2*100)\n",
        "precision_score_array.append(b1*100)\n",
        "f1_score_array.append(a3*100)\n",
        "recall_score_array.append(a2*100)\n",
        "precision_score_array.append(a1*100)"
      ],
      "metadata": {
        "id": "cI0CRAUbEZ9U"
      },
      "execution_count": 294,
      "outputs": []
    },
    {
      "cell_type": "code",
      "source": [
        "from sklearn.metrics import classification_report\n",
        "print(classification_report(y_test,y_pred_clf))"
      ],
      "metadata": {
        "colab": {
          "base_uri": "https://localhost:8080/"
        },
        "id": "_x7nxWeFEBdK",
        "outputId": "2ffdd451-11af-4407-f6d4-b8192d6014d8"
      },
      "execution_count": null,
      "outputs": [
        {
          "output_type": "stream",
          "name": "stdout",
          "text": [
            "              precision    recall  f1-score   support\n",
            "\n",
            "           0       1.00      1.00      1.00      6766\n",
            "           1       1.00      1.00      1.00      6734\n",
            "\n",
            "    accuracy                           1.00     13500\n",
            "   macro avg       1.00      1.00      1.00     13500\n",
            "weighted avg       1.00      1.00      1.00     13500\n",
            "\n"
          ]
        }
      ]
    },
    {
      "cell_type": "code",
      "source": [
        "print(classification_report(y_test,y_pred_abc))"
      ],
      "metadata": {
        "colab": {
          "base_uri": "https://localhost:8080/"
        },
        "id": "Yq3zl0ZHEGqb",
        "outputId": "c67b3243-6437-4b57-c0ae-1e46bc0b5b9c"
      },
      "execution_count": null,
      "outputs": [
        {
          "output_type": "stream",
          "name": "stdout",
          "text": [
            "              precision    recall  f1-score   support\n",
            "\n",
            "           0       1.00      1.00      1.00      6766\n",
            "           1       1.00      1.00      1.00      6734\n",
            "\n",
            "    accuracy                           1.00     13500\n",
            "   macro avg       1.00      1.00      1.00     13500\n",
            "weighted avg       1.00      1.00      1.00     13500\n",
            "\n"
          ]
        }
      ]
    },
    {
      "cell_type": "code",
      "source": [
        "models = {\n",
        "    \"a\" : [\"LinearRegression\",lr],\n",
        "    \"b\" : [\"SVR\",svr],\n",
        "    \"c\" : [\"KNeighborsRegressor\",knr],\n",
        "    \"d\" : [\"DecisionTreeRegressor\",dtr],\n",
        "    \"e\" : [\"GradientBoostingRegressor\",gbr],\n",
        "    \"f\" : [\"RandomForestRegressor\",rfr],\n",
        "    \"g\" : [\"AdaBoostRegressor\",abr],\n",
        "}"
      ],
      "metadata": {
        "id": "k_c1FwE55AhU"
      },
      "execution_count": null,
      "outputs": []
    },
    {
      "cell_type": "code",
      "source": [
        "from sklearn.model_selection import KFold, cross_val_score\n",
        "from sklearn.metrics import make_scorer, r2_score\n",
        "\n",
        "def test_model(model, X_train=x_train, y_train=y_train):\n",
        "    cv = KFold(n_splits = 3, shuffle=True, random_state = 45)\n",
        "    r2 = make_scorer(r2_score)\n",
        "    r2_val_score = cross_val_score(model, X_train, y_train, cv=cv, scoring = r2)\n",
        "    score = [r2_val_score.mean()]\n",
        "    return score"
      ],
      "metadata": {
        "id": "bbRvIfIa5Ae1"
      },
      "execution_count": null,
      "outputs": []
    },
    {
      "cell_type": "code",
      "source": [
        "models_score = []\n",
        "for model in models:\n",
        "  print(\"Training model : \" , models[model][0])\n",
        "  score = test_model(models[model][1])\n",
        "  print(\"score of model is : \" , score)\n",
        "  models_score.append([models[model][0],score])"
      ],
      "metadata": {
        "colab": {
          "base_uri": "https://localhost:8080/"
        },
        "id": "sQCjC1Ph5Ac_",
        "outputId": "1e87d1cc-35ed-4800-8e71-e7b84bdcdfb3"
      },
      "execution_count": null,
      "outputs": [
        {
          "output_type": "stream",
          "name": "stdout",
          "text": [
            "Training model :  LinearRegression\n",
            "score of model is :  [-2.71286467392849e+24]\n",
            "Training model :  SVR\n",
            "score of model is :  [0.8984487852752476]\n",
            "Training model :  KNeighborsRegressor\n",
            "score of model is :  [0.7985443183407007]\n",
            "Training model :  DecisionTreeRegressor\n",
            "score of model is :  [0.9942854761258659]\n",
            "Training model :  GradientBoostingRegressor\n",
            "score of model is :  [0.9945968011741732]\n",
            "Training model :  RandomForestRegressor\n",
            "score of model is :  [0.9964259305562075]\n",
            "Training model :  AdaBoostRegressor\n",
            "score of model is :  [0.989462340412511]\n"
          ]
        }
      ]
    },
    {
      "cell_type": "code",
      "source": [
        "import seaborn as sns\n",
        "\n",
        "from matplotlib import pyplot as plt\n",
        "from matplotlib import style\n",
        "\n",
        "from sklearn import linear_model\n",
        "from sklearn.linear_model import LogisticRegression\n",
        "from sklearn.ensemble import RandomForestClassifier\n",
        "from sklearn.linear_model import Perceptron\n",
        "from sklearn.linear_model import SGDClassifier\n",
        "from sklearn.tree import DecisionTreeClassifier\n",
        "from sklearn.neighbors import KNeighborsClassifier\n",
        "from sklearn.svm import SVC, LinearSVC\n",
        "from sklearn.naive_bayes import GaussianNB"
      ],
      "metadata": {
        "id": "RmdnoNh7pvSe"
      },
      "execution_count": null,
      "outputs": []
    },
    {
      "cell_type": "code",
      "source": [
        "#Decision Tree\n",
        "from sklearn.tree import DecisionTreeClassifier\n",
        "dt = DecisionTreeClassifier()\n",
        "dt.fit(x_train,y_train)\n",
        "\n",
        "y_pred_dt = dt.predict(x_test)\n",
        "acc_dt = round(dt.score(x_test,y_test)*100,2)\n",
        "print(acc_dt)"
      ],
      "metadata": {
        "colab": {
          "base_uri": "https://localhost:8080/"
        },
        "id": "RuwOhpdH5AbC",
        "outputId": "b9faa357-6253-47bf-bf7d-85c5f0d5e27a"
      },
      "execution_count": null,
      "outputs": [
        {
          "output_type": "stream",
          "name": "stdout",
          "text": [
            "99.9\n"
          ]
        }
      ]
    },
    {
      "cell_type": "code",
      "source": [
        "c1 = (precision_score(y_test,y_pred_dt,average='weighted'))\n",
        "c2 = (recall_score(y_test,y_pred_dt,average='weighted'))\n",
        "c3 = (f1_score(y_test,y_pred_dt,average='weighted'))\n",
        "f1_score_array.append(c3*100)\n",
        "recall_score_array.append(c2*100)\n",
        "precision_score_array.append(c1*100)"
      ],
      "metadata": {
        "id": "8UJ147wL_adf"
      },
      "execution_count": 297,
      "outputs": []
    },
    {
      "cell_type": "code",
      "source": [
        "model_acc_class.append(acc_dt)"
      ],
      "metadata": {
        "id": "drWryJDk1tQY"
      },
      "execution_count": 248,
      "outputs": []
    },
    {
      "cell_type": "code",
      "source": [
        "#random forest\n",
        "random_forest = RandomForestClassifier(n_estimators=20)\n",
        "random_forest.fit(x_train,y_train)\n",
        "\n",
        "Y_pred_rf = random_forest.predict(x_test)\n",
        "\n",
        "random_forest.score(x_test,y_test)\n",
        "acc_random_forest = round(random_forest.score(x_test,y_test) * 100, 2)\n",
        "print(acc_random_forest)"
      ],
      "metadata": {
        "colab": {
          "base_uri": "https://localhost:8080/"
        },
        "id": "sjdOwYkF5AXv",
        "outputId": "df689e46-f40f-431d-df30-5c0fa3f59a9d"
      },
      "execution_count": 300,
      "outputs": [
        {
          "output_type": "stream",
          "name": "stdout",
          "text": [
            "99.84\n"
          ]
        }
      ]
    },
    {
      "cell_type": "code",
      "source": [
        "d1 = (precision_score(y_test,Y_pred_rf,average='weighted'))\n",
        "d2 = (recall_score(y_test,Y_pred_rf,average='weighted'))\n",
        "d3 = (f1_score(y_test,Y_pred_rf,average='weighted'))\n",
        "f1_score_array.append(d3*100)\n",
        "recall_score_array.append(d2*100)\n",
        "precision_score_array.append(d1*100)"
      ],
      "metadata": {
        "id": "OubV9Jh0ACFr"
      },
      "execution_count": 301,
      "outputs": []
    },
    {
      "cell_type": "code",
      "source": [
        "model_acc_class.append(acc_random_forest)"
      ],
      "metadata": {
        "id": "VIImbz9Y2_IH"
      },
      "execution_count": 249,
      "outputs": []
    },
    {
      "cell_type": "code",
      "source": [
        "#stochastic gradient descent\n",
        "sgd = linear_model.SGDClassifier(max_iter=5, tol=None)\n",
        "sgd.fit(x_train,y_train)\n",
        "y_pred_sgd = sgd.predict(x_test)\n",
        "sgd.score(x_test,y_test)\n",
        "acc_sgd = round(sgd.score(x_test, y_test) * 100, 2)\n",
        "print(acc_sgd)"
      ],
      "metadata": {
        "id": "a1AtPsu-5AT6",
        "colab": {
          "base_uri": "https://localhost:8080/"
        },
        "outputId": "60e015a1-5a27-435b-e638-3287a5da7973"
      },
      "execution_count": 302,
      "outputs": [
        {
          "output_type": "stream",
          "name": "stdout",
          "text": [
            "99.36\n"
          ]
        }
      ]
    },
    {
      "cell_type": "code",
      "source": [
        "e1 = (precision_score(y_test,y_pred_sgd,average='weighted'))\n",
        "e2 = (recall_score(y_test,y_pred_sgd,average='weighted'))\n",
        "e3 = (f1_score(y_test,y_pred_sgd,average='weighted'))\n",
        "f1_score_array.append(e3*100)\n",
        "recall_score_array.append(e2*100)\n",
        "precision_score_array.append(e1*100)"
      ],
      "metadata": {
        "id": "IRmccMTRAS7D"
      },
      "execution_count": 303,
      "outputs": []
    },
    {
      "cell_type": "code",
      "source": [
        "model_acc_class.append(acc_sgd)"
      ],
      "metadata": {
        "id": "oa6AkWxn3FCR"
      },
      "execution_count": 252,
      "outputs": []
    },
    {
      "cell_type": "code",
      "source": [
        "#Logistic regression\n",
        "logistic = LogisticRegression()\n",
        "logistic.fit(x_train,y_train)\n",
        "\n",
        "y_pred_lr = logistic.predict(x_test)\n",
        "\n",
        "acc_logistic = round(logistic.score(x_test,y_test)*100,2)\n",
        "print(acc_logistic)"
      ],
      "metadata": {
        "colab": {
          "base_uri": "https://localhost:8080/"
        },
        "id": "EkUdjCd85ARD",
        "outputId": "c4ee81d1-cfaa-4e33-b7ba-c585f582d074"
      },
      "execution_count": 304,
      "outputs": [
        {
          "output_type": "stream",
          "name": "stdout",
          "text": [
            "99.86\n"
          ]
        },
        {
          "output_type": "stream",
          "name": "stderr",
          "text": [
            "/usr/local/lib/python3.7/dist-packages/sklearn/linear_model/_logistic.py:818: ConvergenceWarning: lbfgs failed to converge (status=1):\n",
            "STOP: TOTAL NO. of ITERATIONS REACHED LIMIT.\n",
            "\n",
            "Increase the number of iterations (max_iter) or scale the data as shown in:\n",
            "    https://scikit-learn.org/stable/modules/preprocessing.html\n",
            "Please also refer to the documentation for alternative solver options:\n",
            "    https://scikit-learn.org/stable/modules/linear_model.html#logistic-regression\n",
            "  extra_warning_msg=_LOGISTIC_SOLVER_CONVERGENCE_MSG,\n"
          ]
        }
      ]
    },
    {
      "cell_type": "code",
      "source": [
        "f1 = (precision_score(y_test,y_pred_lr,average='weighted'))\n",
        "f2 = (recall_score(y_test,y_pred_lr,average='weighted'))\n",
        "f3 = (f1_score(y_test,y_pred_lr,average='weighted'))\n",
        "f1_score_array.append(f3*100)\n",
        "recall_score_array.append(f2*100)\n",
        "precision_score_array.append(f1*100)"
      ],
      "metadata": {
        "id": "9AybOcMPAefI"
      },
      "execution_count": 305,
      "outputs": []
    },
    {
      "cell_type": "code",
      "source": [
        "model_acc_class.append(acc_logistic)"
      ],
      "metadata": {
        "id": "2jdX2kYO3J7o"
      },
      "execution_count": 250,
      "outputs": []
    },
    {
      "cell_type": "code",
      "source": [
        "model_acc_class"
      ],
      "metadata": {
        "colab": {
          "base_uri": "https://localhost:8080/"
        },
        "id": "OASSuBxh3RWU",
        "outputId": "60c2dd98-4953-451b-cc72-6cd9a6b87cbc"
      },
      "execution_count": 253,
      "outputs": [
        {
          "output_type": "execute_result",
          "data": {
            "text/plain": [
              "[99.86349206349206, 99.51111111111113, 99.9, 99.79, 99.86, 99.39]"
            ]
          },
          "metadata": {},
          "execution_count": 253
        }
      ]
    },
    {
      "cell_type": "code",
      "source": [
        "#KNN\n",
        "from sklearn.neighbors import KNeighborsClassifier\n",
        "knn = KNeighborsClassifier(n_neighbors = 100)\n",
        "knn.fit(x_train,y_train)\n",
        "y_pred_knn = knn.predict(x_test)\n",
        "acc_knn = round(knn.score(x_test,y_test)*100,2)\n",
        "print(acc_knn,y_pred_knn)"
      ],
      "metadata": {
        "colab": {
          "base_uri": "https://localhost:8080/"
        },
        "id": "d0KDVbvx5AO7",
        "outputId": "414b9229-fd62-42b6-cb99-1b0075129618"
      },
      "execution_count": null,
      "outputs": [
        {
          "output_type": "stream",
          "name": "stdout",
          "text": [
            "88.87 [0 0 1 ... 1 0 1]\n"
          ]
        }
      ]
    },
    {
      "cell_type": "code",
      "source": [
        "g1 = (precision_score(y_test,y_pred_knn,average='weighted'))\n",
        "g2 = (recall_score(y_test,y_pred_knn,average='weighted'))\n",
        "g3 = (f1_score(y_test,y_pred_knn,average='weighted'))\n",
        "f1_score_array.append(g3*100)\n",
        "recall_score_array.append(g2*100)\n",
        "precision_score_array.append(g1*100)"
      ],
      "metadata": {
        "id": "Wens8HkyAsox"
      },
      "execution_count": 306,
      "outputs": []
    },
    {
      "cell_type": "code",
      "source": [
        "model_acc_class.append(acc_knn)"
      ],
      "metadata": {
        "id": "3K6f-obLrYqy"
      },
      "execution_count": 254,
      "outputs": []
    },
    {
      "cell_type": "code",
      "source": [
        "from sklearn.ensemble import GradientBoostingRegressor\n",
        "from sklearn.ensemble import RandomForestRegressor\n",
        "from sklearn.linear_model import LinearRegression\n",
        "from sklearn.ensemble import VotingRegressor"
      ],
      "metadata": {
        "id": "9eAKhD2bp8rK"
      },
      "execution_count": null,
      "outputs": []
    },
    {
      "cell_type": "code",
      "source": [
        "from sklearn.ensemble import RandomForestClassifier\n",
        "from sklearn.svm import LinearSVC\n",
        "from sklearn.linear_model import LogisticRegression\n",
        "from sklearn.preprocessing import StandardScaler\n",
        "from sklearn.pipeline import make_pipeline\n",
        "from sklearn.ensemble import StackingClassifier"
      ],
      "metadata": {
        "id": "Fd_7yTmdp8l1"
      },
      "execution_count": null,
      "outputs": []
    },
    {
      "cell_type": "code",
      "source": [
        "estimators = [\n",
        "     ('rf', RandomForestClassifier(n_estimators=10, random_state=42)),\n",
        "     ('svr', make_pipeline(StandardScaler(),LinearSVC(random_state=42)))]"
      ],
      "metadata": {
        "id": "WJMGoX9sp8ik"
      },
      "execution_count": null,
      "outputs": []
    },
    {
      "cell_type": "code",
      "source": [
        "clf = StackingClassifier(\n",
        "    estimators=estimators, final_estimator=LogisticRegression())"
      ],
      "metadata": {
        "id": "udmpw66hp8gt"
      },
      "execution_count": null,
      "outputs": []
    },
    {
      "cell_type": "code",
      "source": [
        "m3 = clf.fit(x_train, y_train).score(x_test, y_test)"
      ],
      "metadata": {
        "id": "jT5bt4hzqPog"
      },
      "execution_count": 255,
      "outputs": []
    },
    {
      "cell_type": "code",
      "source": [
        "m3"
      ],
      "metadata": {
        "colab": {
          "base_uri": "https://localhost:8080/"
        },
        "id": "hXCH7It350sy",
        "outputId": "a91a473c-b8ac-49f3-d933-d3e3e49d8077"
      },
      "execution_count": 264,
      "outputs": [
        {
          "output_type": "execute_result",
          "data": {
            "text/plain": [
              "0.9991111111111111"
            ]
          },
          "metadata": {},
          "execution_count": 264
        }
      ]
    },
    {
      "cell_type": "code",
      "source": [
        "model_acc_class.append(round(m3,2)*100)"
      ],
      "metadata": {
        "id": "fZvfs_3C4M-0"
      },
      "execution_count": 258,
      "outputs": []
    },
    {
      "cell_type": "code",
      "source": [
        "from sklearn.model_selection import cross_val_score\n",
        "from sklearn.linear_model import LogisticRegression\n",
        "from sklearn.naive_bayes import GaussianNB\n",
        "from sklearn.ensemble import RandomForestClassifier\n",
        "from sklearn.ensemble import VotingClassifier\n",
        "\n",
        "\n",
        "clf1 = LogisticRegression(random_state=1)\n",
        "clf2 = RandomForestClassifier(n_estimators=50, random_state=1)\n",
        "clf3 = GaussianNB()\n",
        "\n",
        "eclf = VotingClassifier(\n",
        "     estimators=[('lr', clf1), ('rf', clf2), ('gnb', clf3)],\n",
        "     voting='hard')\n",
        "\n",
        "for clf, label in zip([clf1, clf2, clf3, eclf], ['Logistic Regression', 'Random Forest', 'naive Bayes', 'Ensemble']):\n",
        "     scores = cross_val_score(clf, x_train, y_train, scoring='accuracy', cv=5)\n",
        "     print(\"Accuracy: %0.2f (+/- %0.2f) [%s]\" % (scores.mean(), scores.std(), label))"
      ],
      "metadata": {
        "colab": {
          "base_uri": "https://localhost:8080/"
        },
        "id": "0ymbNX_CqPk1",
        "outputId": "e7b2c06a-6fb3-4550-fc94-1b9ee9cd64cd"
      },
      "execution_count": null,
      "outputs": [
        {
          "output_type": "stream",
          "name": "stderr",
          "text": [
            "/usr/local/lib/python3.7/dist-packages/sklearn/linear_model/_logistic.py:818: ConvergenceWarning: lbfgs failed to converge (status=1):\n",
            "STOP: TOTAL NO. of ITERATIONS REACHED LIMIT.\n",
            "\n",
            "Increase the number of iterations (max_iter) or scale the data as shown in:\n",
            "    https://scikit-learn.org/stable/modules/preprocessing.html\n",
            "Please also refer to the documentation for alternative solver options:\n",
            "    https://scikit-learn.org/stable/modules/linear_model.html#logistic-regression\n",
            "  extra_warning_msg=_LOGISTIC_SOLVER_CONVERGENCE_MSG,\n",
            "/usr/local/lib/python3.7/dist-packages/sklearn/linear_model/_logistic.py:818: ConvergenceWarning: lbfgs failed to converge (status=1):\n",
            "STOP: TOTAL NO. of ITERATIONS REACHED LIMIT.\n",
            "\n",
            "Increase the number of iterations (max_iter) or scale the data as shown in:\n",
            "    https://scikit-learn.org/stable/modules/preprocessing.html\n",
            "Please also refer to the documentation for alternative solver options:\n",
            "    https://scikit-learn.org/stable/modules/linear_model.html#logistic-regression\n",
            "  extra_warning_msg=_LOGISTIC_SOLVER_CONVERGENCE_MSG,\n",
            "/usr/local/lib/python3.7/dist-packages/sklearn/linear_model/_logistic.py:818: ConvergenceWarning: lbfgs failed to converge (status=1):\n",
            "STOP: TOTAL NO. of ITERATIONS REACHED LIMIT.\n",
            "\n",
            "Increase the number of iterations (max_iter) or scale the data as shown in:\n",
            "    https://scikit-learn.org/stable/modules/preprocessing.html\n",
            "Please also refer to the documentation for alternative solver options:\n",
            "    https://scikit-learn.org/stable/modules/linear_model.html#logistic-regression\n",
            "  extra_warning_msg=_LOGISTIC_SOLVER_CONVERGENCE_MSG,\n",
            "/usr/local/lib/python3.7/dist-packages/sklearn/linear_model/_logistic.py:818: ConvergenceWarning: lbfgs failed to converge (status=1):\n",
            "STOP: TOTAL NO. of ITERATIONS REACHED LIMIT.\n",
            "\n",
            "Increase the number of iterations (max_iter) or scale the data as shown in:\n",
            "    https://scikit-learn.org/stable/modules/preprocessing.html\n",
            "Please also refer to the documentation for alternative solver options:\n",
            "    https://scikit-learn.org/stable/modules/linear_model.html#logistic-regression\n",
            "  extra_warning_msg=_LOGISTIC_SOLVER_CONVERGENCE_MSG,\n",
            "/usr/local/lib/python3.7/dist-packages/sklearn/linear_model/_logistic.py:818: ConvergenceWarning: lbfgs failed to converge (status=1):\n",
            "STOP: TOTAL NO. of ITERATIONS REACHED LIMIT.\n",
            "\n",
            "Increase the number of iterations (max_iter) or scale the data as shown in:\n",
            "    https://scikit-learn.org/stable/modules/preprocessing.html\n",
            "Please also refer to the documentation for alternative solver options:\n",
            "    https://scikit-learn.org/stable/modules/linear_model.html#logistic-regression\n",
            "  extra_warning_msg=_LOGISTIC_SOLVER_CONVERGENCE_MSG,\n"
          ]
        },
        {
          "output_type": "stream",
          "name": "stdout",
          "text": [
            "Accuracy: 1.00 (+/- 0.00) [Logistic Regression]\n",
            "Accuracy: 1.00 (+/- 0.00) [Random Forest]\n",
            "Accuracy: 0.99 (+/- 0.00) [naive Bayes]\n"
          ]
        },
        {
          "output_type": "stream",
          "name": "stderr",
          "text": [
            "/usr/local/lib/python3.7/dist-packages/sklearn/linear_model/_logistic.py:818: ConvergenceWarning: lbfgs failed to converge (status=1):\n",
            "STOP: TOTAL NO. of ITERATIONS REACHED LIMIT.\n",
            "\n",
            "Increase the number of iterations (max_iter) or scale the data as shown in:\n",
            "    https://scikit-learn.org/stable/modules/preprocessing.html\n",
            "Please also refer to the documentation for alternative solver options:\n",
            "    https://scikit-learn.org/stable/modules/linear_model.html#logistic-regression\n",
            "  extra_warning_msg=_LOGISTIC_SOLVER_CONVERGENCE_MSG,\n",
            "/usr/local/lib/python3.7/dist-packages/sklearn/linear_model/_logistic.py:818: ConvergenceWarning: lbfgs failed to converge (status=1):\n",
            "STOP: TOTAL NO. of ITERATIONS REACHED LIMIT.\n",
            "\n",
            "Increase the number of iterations (max_iter) or scale the data as shown in:\n",
            "    https://scikit-learn.org/stable/modules/preprocessing.html\n",
            "Please also refer to the documentation for alternative solver options:\n",
            "    https://scikit-learn.org/stable/modules/linear_model.html#logistic-regression\n",
            "  extra_warning_msg=_LOGISTIC_SOLVER_CONVERGENCE_MSG,\n",
            "/usr/local/lib/python3.7/dist-packages/sklearn/linear_model/_logistic.py:818: ConvergenceWarning: lbfgs failed to converge (status=1):\n",
            "STOP: TOTAL NO. of ITERATIONS REACHED LIMIT.\n",
            "\n",
            "Increase the number of iterations (max_iter) or scale the data as shown in:\n",
            "    https://scikit-learn.org/stable/modules/preprocessing.html\n",
            "Please also refer to the documentation for alternative solver options:\n",
            "    https://scikit-learn.org/stable/modules/linear_model.html#logistic-regression\n",
            "  extra_warning_msg=_LOGISTIC_SOLVER_CONVERGENCE_MSG,\n",
            "/usr/local/lib/python3.7/dist-packages/sklearn/linear_model/_logistic.py:818: ConvergenceWarning: lbfgs failed to converge (status=1):\n",
            "STOP: TOTAL NO. of ITERATIONS REACHED LIMIT.\n",
            "\n",
            "Increase the number of iterations (max_iter) or scale the data as shown in:\n",
            "    https://scikit-learn.org/stable/modules/preprocessing.html\n",
            "Please also refer to the documentation for alternative solver options:\n",
            "    https://scikit-learn.org/stable/modules/linear_model.html#logistic-regression\n",
            "  extra_warning_msg=_LOGISTIC_SOLVER_CONVERGENCE_MSG,\n",
            "/usr/local/lib/python3.7/dist-packages/sklearn/linear_model/_logistic.py:818: ConvergenceWarning: lbfgs failed to converge (status=1):\n",
            "STOP: TOTAL NO. of ITERATIONS REACHED LIMIT.\n",
            "\n",
            "Increase the number of iterations (max_iter) or scale the data as shown in:\n",
            "    https://scikit-learn.org/stable/modules/preprocessing.html\n",
            "Please also refer to the documentation for alternative solver options:\n",
            "    https://scikit-learn.org/stable/modules/linear_model.html#logistic-regression\n",
            "  extra_warning_msg=_LOGISTIC_SOLVER_CONVERGENCE_MSG,\n"
          ]
        },
        {
          "output_type": "stream",
          "name": "stdout",
          "text": [
            "Accuracy: 1.00 (+/- 0.00) [Ensemble]\n"
          ]
        }
      ]
    },
    {
      "cell_type": "code",
      "source": [
        "eclf.fit(x_train, y_train)\n",
        "acc_eclf = round(eclf.score(x_test,y_test) * 100, 2)\n",
        "print(acc_eclf)\n",
        "y_pred_eclf = eclf.predict(x_test)\n",
        "print(y_pred_eclf)\n",
        "i1 = (precision_score(y_test,y_pred_eclf,average='weighted'))\n",
        "i2 = (recall_score(y_test,y_pred_eclf,average='weighted'))\n",
        "i3 = (f1_score(y_test,y_pred_eclf,average='weighted'))\n",
        "f1_score_array.append(i3*100)\n",
        "recall_score_array.append(i2*100)\n",
        "precision_score_array.append(i1*100)"
      ],
      "metadata": {
        "colab": {
          "base_uri": "https://localhost:8080/"
        },
        "id": "pJMEJluNXPex",
        "outputId": "ea86b18f-0578-4d6c-e023-c3d60901bc64"
      },
      "execution_count": 309,
      "outputs": [
        {
          "output_type": "stream",
          "name": "stderr",
          "text": [
            "/usr/local/lib/python3.7/dist-packages/sklearn/linear_model/_logistic.py:818: ConvergenceWarning: lbfgs failed to converge (status=1):\n",
            "STOP: TOTAL NO. of ITERATIONS REACHED LIMIT.\n",
            "\n",
            "Increase the number of iterations (max_iter) or scale the data as shown in:\n",
            "    https://scikit-learn.org/stable/modules/preprocessing.html\n",
            "Please also refer to the documentation for alternative solver options:\n",
            "    https://scikit-learn.org/stable/modules/linear_model.html#logistic-regression\n",
            "  extra_warning_msg=_LOGISTIC_SOLVER_CONVERGENCE_MSG,\n"
          ]
        },
        {
          "output_type": "stream",
          "name": "stdout",
          "text": [
            "99.96\n",
            "[1 0 1 ... 1 0 1]\n"
          ]
        }
      ]
    },
    {
      "cell_type": "code",
      "source": [
        "model_acc_class.append(acc_eclf)"
      ],
      "metadata": {
        "id": "UHnjO0lA4gRb"
      },
      "execution_count": 260,
      "outputs": []
    },
    {
      "cell_type": "code",
      "source": [
        "from sklearn.metrics import precision_score, recall_score,f1_score"
      ],
      "metadata": {
        "id": "msY910tmqPjO"
      },
      "execution_count": null,
      "outputs": []
    },
    {
      "cell_type": "code",
      "source": [
        "precision_score(y_test,y_pred_knn,average='weighted')\n",
        "# recall_score(y_test,y_pred_knn,average='weighted')\n",
        "# f1_score(y_test,y_pred_knn,average='weighted')"
      ],
      "metadata": {
        "colab": {
          "base_uri": "https://localhost:8080/"
        },
        "id": "GI6yl1Zi4w5D",
        "outputId": "b01b1091-da18-43fc-dfe6-903c375f51e7"
      },
      "execution_count": null,
      "outputs": [
        {
          "output_type": "execute_result",
          "data": {
            "text/plain": [
              "0.891489335806017"
            ]
          },
          "metadata": {},
          "execution_count": 197
        }
      ]
    },
    {
      "cell_type": "code",
      "source": [
        "recall_score(y_test,y_pred_knn,average='weighted')\n",
        "# f1_score(y_test,y_pred_knn,average='weighted')"
      ],
      "metadata": {
        "colab": {
          "base_uri": "https://localhost:8080/"
        },
        "id": "5biqUR9k4w2D",
        "outputId": "777f3a82-5f6b-44c3-f8c1-15b30ce78dc3"
      },
      "execution_count": null,
      "outputs": [
        {
          "output_type": "execute_result",
          "data": {
            "text/plain": [
              "0.8886666666666667"
            ]
          },
          "metadata": {},
          "execution_count": 198
        }
      ]
    },
    {
      "cell_type": "code",
      "source": [
        "f1_score(y_test,y_pred_knn,average='weighted')"
      ],
      "metadata": {
        "colab": {
          "base_uri": "https://localhost:8080/"
        },
        "id": "AMrpXsWN4wzZ",
        "outputId": "0494626b-79dc-4e0e-b654-869de927db0b"
      },
      "execution_count": null,
      "outputs": [
        {
          "output_type": "execute_result",
          "data": {
            "text/plain": [
              "0.8884783557918776"
            ]
          },
          "metadata": {},
          "execution_count": 199
        }
      ]
    },
    {
      "cell_type": "code",
      "source": [
        "from sklearn.metrics import classification_report\n",
        "print(classification_report(y_test,y_pred_knn))"
      ],
      "metadata": {
        "colab": {
          "base_uri": "https://localhost:8080/"
        },
        "id": "m0LKNJMh4wwc",
        "outputId": "4328e983-b81a-411d-86be-73a4e7d2fa4c"
      },
      "execution_count": null,
      "outputs": [
        {
          "output_type": "stream",
          "name": "stdout",
          "text": [
            "              precision    recall  f1-score   support\n",
            "\n",
            "           0       0.92      0.85      0.88      6766\n",
            "           1       0.86      0.93      0.89      6734\n",
            "\n",
            "    accuracy                           0.89     13500\n",
            "   macro avg       0.89      0.89      0.89     13500\n",
            "weighted avg       0.89      0.89      0.89     13500\n",
            "\n"
          ]
        }
      ]
    },
    {
      "cell_type": "code",
      "source": [
        "from sklearn.tree import DecisionTreeClassifier\n",
        "decision_tree = DecisionTreeClassifier(random_state=0, max_depth=30)\n",
        "decision_tree.fit(x_train, y_train)\n",
        "acc_decision_tree = round(decision_tree.score(x_test,y_test) * 100, 2)\n",
        "print(acc_decision_tree)\n",
        "y_pred_dt = decision_tree.predict(x_test)\n",
        "print(y_pred_dt)\n",
        "print(precision_score(y_test,y_pred_dt,average='weighted'))\n",
        "print(recall_score(y_test,y_pred_dt,average='weighted'))\n",
        "print(f1_score(y_test,y_pred_dt,average='weighted'))"
      ],
      "metadata": {
        "colab": {
          "base_uri": "https://localhost:8080/"
        },
        "id": "bVWLXn4Jb928",
        "outputId": "b057bbfc-53f7-4098-a82b-a1366f427d39"
      },
      "execution_count": null,
      "outputs": [
        {
          "output_type": "stream",
          "name": "stdout",
          "text": [
            "99.9\n",
            "[1 0 1 ... 1 0 1]\n",
            "0.9990373091689196\n",
            "0.9990370370370371\n",
            "0.9990370360595364\n"
          ]
        }
      ]
    },
    {
      "cell_type": "code",
      "source": [
        "from sklearn.ensemble import RandomForestClassifier\n",
        "from sklearn.svm import LinearSVC\n",
        "from sklearn.linear_model import LogisticRegression\n",
        "from sklearn.preprocessing import StandardScaler\n",
        "from sklearn.pipeline import make_pipeline\n",
        "from sklearn.ensemble import StackingClassifier"
      ],
      "metadata": {
        "id": "3gn7bB08b9ll"
      },
      "execution_count": null,
      "outputs": []
    },
    {
      "cell_type": "code",
      "source": [
        "estimators = [\n",
        "     ('rf', RandomForestClassifier(n_estimators=10, random_state=42)),\n",
        "     ('svr', make_pipeline(StandardScaler(),LinearSVC(random_state=42)))]"
      ],
      "metadata": {
        "id": "894iAKQYb9dj"
      },
      "execution_count": null,
      "outputs": []
    },
    {
      "cell_type": "code",
      "source": [
        "sta = StackingClassifier(\n",
        "     estimators=estimators, final_estimator=LogisticRegression())"
      ],
      "metadata": {
        "id": "pBJc-ITWdhfA"
      },
      "execution_count": null,
      "outputs": []
    },
    {
      "cell_type": "code",
      "source": [
        "sta.fit(x_train, y_train).score(x_test, y_test)"
      ],
      "metadata": {
        "colab": {
          "base_uri": "https://localhost:8080/"
        },
        "id": "7KN01PJLdhb9",
        "outputId": "d6738812-91f8-4abf-aeef-164559d50101"
      },
      "execution_count": null,
      "outputs": [
        {
          "output_type": "stream",
          "name": "stderr",
          "text": [
            "/usr/local/lib/python3.7/dist-packages/sklearn/svm/_base.py:1208: ConvergenceWarning: Liblinear failed to converge, increase the number of iterations.\n",
            "  ConvergenceWarning,\n",
            "/usr/local/lib/python3.7/dist-packages/sklearn/svm/_base.py:1208: ConvergenceWarning: Liblinear failed to converge, increase the number of iterations.\n",
            "  ConvergenceWarning,\n",
            "/usr/local/lib/python3.7/dist-packages/sklearn/svm/_base.py:1208: ConvergenceWarning: Liblinear failed to converge, increase the number of iterations.\n",
            "  ConvergenceWarning,\n",
            "/usr/local/lib/python3.7/dist-packages/sklearn/svm/_base.py:1208: ConvergenceWarning: Liblinear failed to converge, increase the number of iterations.\n",
            "  ConvergenceWarning,\n",
            "/usr/local/lib/python3.7/dist-packages/sklearn/svm/_base.py:1208: ConvergenceWarning: Liblinear failed to converge, increase the number of iterations.\n",
            "  ConvergenceWarning,\n",
            "/usr/local/lib/python3.7/dist-packages/sklearn/svm/_base.py:1208: ConvergenceWarning: Liblinear failed to converge, increase the number of iterations.\n",
            "  ConvergenceWarning,\n"
          ]
        },
        {
          "output_type": "execute_result",
          "data": {
            "text/plain": [
              "0.9992592592592593"
            ]
          },
          "metadata": {},
          "execution_count": 239
        }
      ]
    },
    {
      "cell_type": "code",
      "source": [
        "pred_sta = sta.predict(x_test)\n",
        "# print(pred_sta)\n",
        "h1 = (precision_score(y_test,pred_sta,average='weighted'))\n",
        "h2 = (recall_score(y_test,pred_sta,average='weighted'))\n",
        "h3 = (f1_score(y_test,pred_sta,average='weighted'))\n",
        "f1_score_array.append(h3*100)\n",
        "recall_score_array.append(h2*100)\n",
        "precision_score_array.append(h1*100)"
      ],
      "metadata": {
        "id": "UmF-QIg7dt2E"
      },
      "execution_count": 307,
      "outputs": []
    },
    {
      "cell_type": "code",
      "source": [
        "from sklearn.metrics import confusion_matrix\n",
        "import numpy as np"
      ],
      "metadata": {
        "id": "UdJhPnkE7Xyu"
      },
      "execution_count": null,
      "outputs": []
    },
    {
      "cell_type": "code",
      "source": [
        "true_values = y_test.tolist()"
      ],
      "metadata": {
        "id": "ykmPP6vm4wqk"
      },
      "execution_count": null,
      "outputs": []
    },
    {
      "cell_type": "code",
      "source": [
        "y_pred_sgd = sgd.predict(x_test).tolist()\n",
        "y_pred_randomForest = random_forest.predict(x_test).tolist()\n",
        "y_pred_logistic = logistic.predict(x_test).tolist()\n",
        "y_pred_decisionTree = dt.predict(x_test).tolist()\n",
        "y_pred_knn = knn.predict(x_test).tolist()\n",
        "y_pred_adaboost = abc.predict(x_test).tolist();\n",
        "y_pred_xgboost = clf.predict(x_test).tolist();\n",
        "y_pred_staking=  sta.predict(x_test).tolist();\n",
        "y_pred_voting = eclf.predict(x_test).tolist();"
      ],
      "metadata": {
        "id": "lTI83QDC4woD"
      },
      "execution_count": 320,
      "outputs": []
    },
    {
      "cell_type": "code",
      "source": [
        "cf_matrix_abc = confusion_matrix(true_values,y_pred_adaboost)\n",
        "cf_matrix_xgb = confusion_matrix(true_values,y_pred_xgboost)\n",
        "cf_matrix_staking = confusion_matrix(true_values,y_pred_staking)\n",
        "cf_matrix_voting = confusion_matrix(true_values,y_pred_voting)\n"
      ],
      "metadata": {
        "id": "cPPH5sevEAoM"
      },
      "execution_count": 321,
      "outputs": []
    },
    {
      "cell_type": "code",
      "source": [
        "cf_matrix_randomForest = confusion_matrix(true_values, y_pred_randomForest)\n",
        "cf_matrix_knn = confusion_matrix(true_values, y_pred_knn)\n",
        "cf_matrix_logistic = confusion_matrix(true_values, y_pred_logistic)\n",
        "cf_matrix_dt = confusion_matrix(true_values, y_pred_decisionTree)"
      ],
      "metadata": {
        "id": "-4nnk58A4wlU"
      },
      "execution_count": null,
      "outputs": []
    },
    {
      "cell_type": "code",
      "source": [
        "import seaborn as sns\n",
        "import matplotlib.pyplot as plt\n",
        "\n",
        "\n",
        "group_counts = [\"{0:0.0f}\".format(value) for value in\n",
        "                cf_matrix_randomForest.flatten()]\n",
        "\n",
        "group_percentages = [\"{0:.2%}\".format(value) for value in\n",
        "                     cf_matrix_randomForest.flatten()/np.sum(cf_matrix_randomForest)]\n",
        "\n",
        "labels = [f\"{v1}\\n{v2}\\n\" for v1, v2 in\n",
        "          zip(group_counts,group_percentages)]\n",
        "\n",
        "labels = np.asarray(labels).reshape(2,2)\n",
        "\n",
        "ax = sns.heatmap(cf_matrix_randomForest, annot=labels, fmt='', cmap='Blues')\n",
        "\n",
        "ax.set_title('Confusion Matrix Random Forest\\n\\n');\n",
        "ax.set_xlabel('\\nPredicted Category')\n",
        "ax.set_ylabel('Actual Category');\n",
        "\n",
        "## Ticket labels - List must be in alphabetical order\n",
        "ax.xaxis.set_ticklabels(['Benign','Malware'])\n",
        "ax.yaxis.set_ticklabels(['Benign','Malware'])\n",
        "\n",
        "## Display the visualization of the Confusion Matrix.\n",
        "plt.show()"
      ],
      "metadata": {
        "colab": {
          "base_uri": "https://localhost:8080/",
          "height": 337
        },
        "id": "Hcbo92dI4wiW",
        "outputId": "df3e4f0d-b0d4-48f8-9269-c58275d36660"
      },
      "execution_count": null,
      "outputs": [
        {
          "output_type": "display_data",
          "data": {
            "text/plain": [
              "<Figure size 432x288 with 2 Axes>"
            ],
            "image/png": "[encoded data removed]"
          },
          "metadata": {
            "needs_background": "light"
          }
        }
      ]
    },
    {
      "cell_type": "code",
      "source": [
        "group_counts = [\"{0:0.0f}\".format(value) for value in\n",
        "                cf_matrix_knn.flatten()]\n",
        "\n",
        "group_percentages = [\"{0:.2%}\".format(value) for value in\n",
        "                     cf_matrix_knn.flatten()/np.sum(cf_matrix_knn)]\n",
        "\n",
        "labels = [f\"{v1}\\n{v2}\\n\" for v1, v2 in\n",
        "          zip(group_counts,group_percentages)]\n",
        "\n",
        "labels = np.asarray(labels).reshape(2,2)\n",
        "\n",
        "ax = sns.heatmap(cf_matrix_knn, annot=labels, fmt='', cmap='Blues')\n",
        "\n",
        "ax.set_title('Confusion Matrix KNN\\n\\n');\n",
        "ax.set_xlabel('\\nPredicted Category')\n",
        "ax.set_ylabel('Actual Category');\n",
        "\n",
        "## Ticket labels - List must be in alphabetical order\n",
        "ax.xaxis.set_ticklabels(['Benign','Malware'])\n",
        "ax.yaxis.set_ticklabels(['Benign','Malware'])\n",
        "\n",
        "## Display the visualization of the Confusion Matrix.\n",
        "plt.show()"
      ],
      "metadata": {
        "colab": {
          "base_uri": "https://localhost:8080/",
          "height": 337
        },
        "id": "CVbmxkDr7pyc",
        "outputId": "e3cfa840-eda1-430c-fa22-41c8414f27f2"
      },
      "execution_count": null,
      "outputs": [
        {
          "output_type": "display_data",
          "data": {
            "text/plain": [
              "<Figure size 432x288 with 2 Axes>"
            ],
            "image/png": "[encoded data removed]"
          },
          "metadata": {
            "needs_background": "light"
          }
        }
      ]
    },
    {
      "cell_type": "code",
      "source": [
        "group_counts = [\"{0:0.0f}\".format(value) for value in\n",
        "                cf_matrix_dt.flatten()]\n",
        "\n",
        "group_percentages = [\"{0:.2%}\".format(value) for value in\n",
        "                     cf_matrix_dt.flatten()/np.sum(cf_matrix_dt)]\n",
        "\n",
        "labels = [f\"{v1}\\n{v2}\\n\" for v1, v2 in\n",
        "          zip(group_counts,group_percentages)]\n",
        "\n",
        "labels = np.asarray(labels).reshape(2,2)\n",
        "\n",
        "ax = sns.heatmap(cf_matrix_dt, annot=labels, fmt='', cmap='Blues')\n",
        "\n",
        "ax.set_title('Confusion Matrix Decision Tree\\n\\n');\n",
        "ax.set_xlabel('\\nPredicted Category')\n",
        "ax.set_ylabel('Actual Category');\n",
        "\n",
        "## Ticket labels - List must be in alphabetical order\n",
        "ax.xaxis.set_ticklabels(['Benign','Malware'])\n",
        "ax.yaxis.set_ticklabels(['Benign','Malware'])\n",
        "\n",
        "## Display the visualization of the Confusion Matrix.\n",
        "plt.show()"
      ],
      "metadata": {
        "colab": {
          "base_uri": "https://localhost:8080/",
          "height": 337
        },
        "id": "nUyRzr7m7pvm",
        "outputId": "9f5acff9-d75f-473a-f976-7e1b1007d916"
      },
      "execution_count": null,
      "outputs": [
        {
          "output_type": "display_data",
          "data": {
            "text/plain": [
              "<Figure size 432x288 with 2 Axes>"
            ],
            "image/png": "[encoded data removed]"
          },
          "metadata": {
            "needs_background": "light"
          }
        }
      ]
    },
    {
      "cell_type": "code",
      "source": [
        "import matplotlib.pyplot as plt\n",
        "import numpy as np\n",
        "from matplotlib import style"
      ],
      "metadata": {
        "id": "9qXPupHjhK4t"
      },
      "execution_count": null,
      "outputs": []
    },
    {
      "cell_type": "code",
      "source": [
        "name = [models_score[1][0],models_score[2][0],models_score[3][0],models_score[4][0],models_score[5][0],models_score[6][0]]\n",
        "name"
      ],
      "metadata": {
        "colab": {
          "base_uri": "https://localhost:8080/"
        },
        "id": "NGpMrPulhKuQ",
        "outputId": "35aedf02-2470-4468-e32d-5ce5048554a2"
      },
      "execution_count": null,
      "outputs": [
        {
          "output_type": "execute_result",
          "data": {
            "text/plain": [
              "['SVR',\n",
              " 'KNeighborsRegressor',\n",
              " 'DecisionTreeRegressor',\n",
              " 'GradientBoostingRegressor',\n",
              " 'RandomForestRegressor',\n",
              " 'AdaBoostRegressor']"
            ]
          },
          "metadata": {},
          "execution_count": 150
        }
      ]
    },
    {
      "cell_type": "code",
      "source": [
        "val = [models_score[1][1][0]*100,models_score[2][1][0]*100,models_score[3][1][0]*100,\n",
        "       models_score[4][1][0]*100,models_score[5][1][0]*100,models_score[6][1][0]*100]\n",
        "val"
      ],
      "metadata": {
        "colab": {
          "base_uri": "https://localhost:8080/"
        },
        "id": "OJdWrMH1hKr-",
        "outputId": "db0dcb69-6c8c-4b9e-f6f8-ac4f27f235c8"
      },
      "execution_count": null,
      "outputs": [
        {
          "output_type": "execute_result",
          "data": {
            "text/plain": [
              "[88.91341656915459,\n",
              " 76.24952155493499,\n",
              " 99.3904648971517,\n",
              " 99.37948556898264,\n",
              " 99.53205011865143,\n",
              " 98.9288031209155]"
            ]
          },
          "metadata": {},
          "execution_count": 151
        }
      ]
    },
    {
      "cell_type": "code",
      "source": [
        "plt.figure(figsize = (14,7))\n",
        "plt.bar(name, val,color=\"y\",edgecolor=\"y\",width=0.4,align=\"center\")\n",
        "plt.title(\"Bar Chart of Machine learning Model Accuracy\")\n",
        "plt.ylabel(\"Accuracy in ( % )\")\n",
        "plt.xlabel(\"Model Name\")"
      ],
      "metadata": {
        "colab": {
          "base_uri": "https://localhost:8080/",
          "height": 475
        },
        "id": "TOFWTZTPhKpc",
        "outputId": "57aa58a7-4895-46c4-aae0-1c395a9265f9"
      },
      "execution_count": 273,
      "outputs": [
        {
          "output_type": "execute_result",
          "data": {
            "text/plain": [
              "Text(0.5, 0, 'Model Name')"
            ]
          },
          "metadata": {},
          "execution_count": 273
        },
        {
          "output_type": "display_data",
          "data": {
            "text/plain": [
              "<Figure size 1008x504 with 1 Axes>"
            ],
            "image/png": "[encoded data removed]"
          },
          "metadata": {
            "needs_background": "light"
          }
        }
      ]
    },
    {
      "cell_type": "code",
      "source": [
        "a = []\n",
        "for x in model_acc_class:\n",
        "  a.append(round(x,2))"
      ],
      "metadata": {
        "id": "3Vygn5mYhKnD"
      },
      "execution_count": 262,
      "outputs": []
    },
    {
      "cell_type": "code",
      "source": [
        "model_name = [\"AdaBiistClassifier\",\"XGBClassifier\",\"Decision Tree\",\"Random Forest\",\"SGD\",\"Logistic Regression\",\"KNN\",\"Stacking\",\"Voting\"]"
      ],
      "metadata": {
        "id": "u4X1_oXykEV0"
      },
      "execution_count": 265,
      "outputs": []
    },
    {
      "cell_type": "code",
      "source": [
        "plt.figure(figsize = (15,7))\n",
        "plt.bar(model_name,model_acc_class,color=\"b\",edgecolor=\"b\",width=0.4,align=\"center\")\n",
        "plt.title(\"Bar Chart of Machine learning Model Accuracy\")\n",
        "plt.ylabel(\"Accuracy in ( % )\")\n",
        "plt.xlabel(\"Machine Learning Model\")"
      ],
      "metadata": {
        "id": "a7Wq1-URkERE",
        "colab": {
          "base_uri": "https://localhost:8080/",
          "height": 475
        },
        "outputId": "bde1eede-b52d-4fec-ab4e-ab49b502b5fe"
      },
      "execution_count": 275,
      "outputs": [
        {
          "output_type": "execute_result",
          "data": {
            "text/plain": [
              "Text(0.5, 0, 'Machine Learning Model')"
            ]
          },
          "metadata": {},
          "execution_count": 275
        },
        {
          "output_type": "display_data",
          "data": {
            "text/plain": [
              "<Figure size 1080x504 with 1 Axes>"
            ],
            "image/png": "[encoded data removed]"
          },
          "metadata": {
            "needs_background": "light"
          }
        }
      ]
    },
    {
      "cell_type": "code",
      "source": [
        "plt.figure(figsize = (15,7))\n",
        "plt.bar(model_name,f1_score_array,color=\"g\",edgecolor=\"g\",width=0.4,align=\"center\")\n",
        "plt.title(\"Bar Chart of Machine learning Model F1 Score\")\n",
        "plt.ylabel(\"F1 Score in ( % )\")\n",
        "plt.xlabel(\"Machine Learning Model\")"
      ],
      "metadata": {
        "id": "CQPr7ri_kEOp",
        "colab": {
          "base_uri": "https://localhost:8080/",
          "height": 475
        },
        "outputId": "81e9233a-086b-4601-95b0-14859ad0fd5a"
      },
      "execution_count": 314,
      "outputs": [
        {
          "output_type": "execute_result",
          "data": {
            "text/plain": [
              "Text(0.5, 0, 'Machine Learning Model')"
            ]
          },
          "metadata": {},
          "execution_count": 314
        },
        {
          "output_type": "display_data",
          "data": {
            "text/plain": [
              "<Figure size 1080x504 with 1 Axes>"
            ],
            "image/png": "[encoded data removed]"
          },
          "metadata": {
            "needs_background": "light"
          }
        }
      ]
    },
    {
      "cell_type": "code",
      "source": [
        "plt.figure(figsize = (15,7))\n",
        "plt.bar(model_name,recall_score_array,color=\"purple\",edgecolor=\"purple\",width=0.4,align=\"center\")\n",
        "plt.title(\"Bar Chart of Machine learning Model Recall Score\")\n",
        "plt.ylabel(\"Recall Score in ( % )\")\n",
        "plt.xlabel(\"Machine Learning Model\")"
      ],
      "metadata": {
        "id": "RCnIhXJakEL1",
        "colab": {
          "base_uri": "https://localhost:8080/",
          "height": 475
        },
        "outputId": "432eeb37-6729-4628-ab27-0e7ba496b5f9"
      },
      "execution_count": 315,
      "outputs": [
        {
          "output_type": "execute_result",
          "data": {
            "text/plain": [
              "Text(0.5, 0, 'Machine Learning Model')"
            ]
          },
          "metadata": {},
          "execution_count": 315
        },
        {
          "output_type": "display_data",
          "data": {
            "text/plain": [
              "<Figure size 1080x504 with 1 Axes>"
            ],
            "image/png": "[encoded data removed]"
          },
          "metadata": {
            "needs_background": "light"
          }
        }
      ]
    },
    {
      "cell_type": "code",
      "source": [
        "plt.figure(figsize = (15,7))\n",
        "plt.bar(model_name,precision_score_array,color=\"orange\",edgecolor=\"orange\",width=0.4,align=\"center\")\n",
        "plt.title(\"Bar Chart of Machine learning Model Precision Score\")\n",
        "plt.ylabel(\"Precison Score in ( % )\")\n",
        "plt.xlabel(\"Machine Learning Model\")"
      ],
      "metadata": {
        "colab": {
          "base_uri": "https://localhost:8080/",
          "height": 475
        },
        "id": "d-PPXjoV7vVv",
        "outputId": "2073fb2e-948e-422c-b281-76e6e91e0e52"
      },
      "execution_count": 316,
      "outputs": [
        {
          "output_type": "execute_result",
          "data": {
            "text/plain": [
              "Text(0.5, 0, 'Machine Learning Model')"
            ]
          },
          "metadata": {},
          "execution_count": 316
        },
        {
          "output_type": "display_data",
          "data": {
            "text/plain": [
              "<Figure size 1080x504 with 1 Axes>"
            ],
            "image/png": "[encoded data removed]"
          },
          "metadata": {
            "needs_background": "light"
          }
        }
      ]
    },
    {
      "cell_type": "code",
      "source": [
        "group_counts = [\"{0:0.0f}\".format(value) for value in\n",
        "                cf_matrix_abc.flatten()]\n",
        "\n",
        "group_percentages = [\"{0:.2%}\".format(value) for value in\n",
        "                     cf_matrix_abc.flatten()/np.sum(cf_matrix_abc)]\n",
        "\n",
        "labels = [f\"{v1}\\n{v2}\\n\" for v1, v2 in\n",
        "          zip(group_counts,group_percentages)]\n",
        "\n",
        "labels = np.asarray(labels).reshape(2,2)\n",
        "\n",
        "ax = sns.heatmap(cf_matrix_abc, annot=labels, fmt='', cmap='Blues')\n",
        "\n",
        "ax.set_title('Confusion Matrix AdaBoostClassifier\\n\\n');\n",
        "ax.set_xlabel('\\nPredicted Category')\n",
        "ax.set_ylabel('Actual Category');\n",
        "\n",
        "## Ticket labels - List must be in alphabetical order\n",
        "ax.xaxis.set_ticklabels(['Benign','Malware'])\n",
        "ax.yaxis.set_ticklabels(['Benign','Malware'])\n",
        "\n",
        "## Display the visualization of the Confusion Matrix.\n",
        "plt.show()"
      ],
      "metadata": {
        "colab": {
          "base_uri": "https://localhost:8080/",
          "height": 337
        },
        "id": "kbpwUdv_7vTC",
        "outputId": "2b49986d-f38b-4f01-d12b-07c82f2aaa21"
      },
      "execution_count": 322,
      "outputs": [
        {
          "output_type": "display_data",
          "data": {
            "text/plain": [
              "<Figure size 432x288 with 2 Axes>"
            ],
            "image/png": "[encoded data removed]"
          },
          "metadata": {
            "needs_background": "light"
          }
        }
      ]
    },
    {
      "cell_type": "code",
      "source": [
        "group_counts = [\"{0:0.0f}\".format(value) for value in\n",
        "                cf_matrix_xgb.flatten()]\n",
        "\n",
        "group_percentages = [\"{0:.2%}\".format(value) for value in\n",
        "                     cf_matrix_xgb.flatten()/np.sum(cf_matrix_xgb)]\n",
        "\n",
        "labels = [f\"{v1}\\n{v2}\\n\" for v1, v2 in\n",
        "          zip(group_counts,group_percentages)]\n",
        "\n",
        "labels = np.asarray(labels).reshape(2,2)\n",
        "\n",
        "ax = sns.heatmap(cf_matrix_xgb, annot=labels, fmt='', cmap='Blues')\n",
        "\n",
        "ax.set_title('Confusion Matrix XGBoost\\n\\n');\n",
        "ax.set_xlabel('\\nPredicted Category')\n",
        "ax.set_ylabel('Actual Category');\n",
        "\n",
        "## Ticket labels - List must be in alphabetical order\n",
        "ax.xaxis.set_ticklabels(['Benign','Malware'])\n",
        "ax.yaxis.set_ticklabels(['Benign','Malware'])\n",
        "\n",
        "## Display the visualization of the Confusion Matrix.\n",
        "plt.show()"
      ],
      "metadata": {
        "colab": {
          "base_uri": "https://localhost:8080/",
          "height": 337
        },
        "id": "9ccWzu4D7vQG",
        "outputId": "c2291e18-d598-4d6c-b523-232620d1e82a"
      },
      "execution_count": 327,
      "outputs": [
        {
          "output_type": "display_data",
          "data": {
            "text/plain": [
              "<Figure size 432x288 with 2 Axes>"
            ],
            "image/png": "[encoded data removed]"
          },
          "metadata": {
            "needs_background": "light"
          }
        }
      ]
    },
    {
      "cell_type": "code",
      "source": [
        "group_counts = [\"{0:0.0f}\".format(value) for value in\n",
        "                cf_matrix_staking.flatten()]\n",
        "\n",
        "group_percentages = [\"{0:.2%}\".format(value) for value in\n",
        "                     cf_matrix_staking.flatten()/np.sum(cf_matrix_staking)]\n",
        "\n",
        "labels = [f\"{v1}\\n{v2}\\n\" for v1, v2 in\n",
        "          zip(group_counts,group_percentages)]\n",
        "\n",
        "labels = np.asarray(labels).reshape(2,2)\n",
        "\n",
        "ax = sns.heatmap(cf_matrix_staking, annot=labels, fmt='', cmap='Blues')\n",
        "\n",
        "ax.set_title('Confusion Matrix Stacking\\n\\n');\n",
        "ax.set_xlabel('\\nPredicted Category')\n",
        "ax.set_ylabel('Actual Category');\n",
        "\n",
        "## Ticket labels - List must be in alphabetical order\n",
        "ax.xaxis.set_ticklabels(['Benign','Malware'])\n",
        "ax.yaxis.set_ticklabels(['Benign','Malware'])\n",
        "\n",
        "## Display the visualization of the Confusion Matrix.\n",
        "plt.show()"
      ],
      "metadata": {
        "colab": {
          "base_uri": "https://localhost:8080/",
          "height": 337
        },
        "id": "pL-KHzlq7vN3",
        "outputId": "3dbee435-11ca-41e9-ca79-db7b6aea3fdd"
      },
      "execution_count": 326,
      "outputs": [
        {
          "output_type": "display_data",
          "data": {
            "text/plain": [
              "<Figure size 432x288 with 2 Axes>"
            ],
            "image/png": "[encoded data removed]"
          },
          "metadata": {
            "needs_background": "light"
          }
        }
      ]
    },
    {
      "cell_type": "code",
      "source": [
        "group_counts = [\"{0:0.0f}\".format(value) for value in\n",
        "                cf_matrix_voting.flatten()]\n",
        "\n",
        "group_percentages = [\"{0:.2%}\".format(value) for value in\n",
        "                     cf_matrix_voting.flatten()/np.sum(cf_matrix_voting)]\n",
        "\n",
        "labels = [f\"{v1}\\n{v2}\\n\" for v1, v2 in\n",
        "          zip(group_counts,group_percentages)]\n",
        "\n",
        "labels = np.asarray(labels).reshape(2,2)\n",
        "\n",
        "ax = sns.heatmap(cf_matrix_voting, annot=labels, fmt='', cmap='Blues')\n",
        "\n",
        "ax.set_title('Confusion Matrix Voting\\n\\n');\n",
        "ax.set_xlabel('\\nPredicted Category')\n",
        "ax.set_ylabel('Actual Category');\n",
        "\n",
        "## Ticket labels - List must be in alphabetical order\n",
        "ax.xaxis.set_ticklabels(['Benign','Malware'])\n",
        "ax.yaxis.set_ticklabels(['Benign','Malware'])\n",
        "\n",
        "## Display the visualization of the Confusion Matrix.\n",
        "plt.show()"
      ],
      "metadata": {
        "colab": {
          "base_uri": "https://localhost:8080/",
          "height": 337
        },
        "id": "Xwgzg9j2GeyK",
        "outputId": "a91b4537-564d-42f7-b008-317ae007ecd5"
      },
      "execution_count": 328,
      "outputs": [
        {
          "output_type": "display_data",
          "data": {
            "text/plain": [
              "<Figure size 432x288 with 2 Axes>"
            ],
            "image/png": "[encoded data removed]"
          },
          "metadata": {
            "needs_background": "light"
          }
        }
      ]
    },
    {
      "cell_type": "code",
      "source": [],
      "metadata": {
        "id": "eAcZng8qGeud"
      },
      "execution_count": null,
      "outputs": []
    },
    {
      "cell_type": "code",
      "source": [],
      "metadata": {
        "id": "4KMRGFlFGetA"
      },
      "execution_count": null,
      "outputs": []
    }
  ],
  "metadata": {
    "colab": {
      "collapsed_sections": [],
      "provenance": [],
      "include_colab_link": true
    },
    "kernelspec": {
      "display_name": "Python 3",
      "name": "python3"
    },
    "language_info": {
      "name": "python"
    }
  },
  "nbformat": 4,
  "nbformat_minor": 0
}
